{
 "cells": [
  {
   "attachments": {},
   "cell_type": "markdown",
   "metadata": {},
   "source": [
    "## Project Description \n",
    "\n",
    "### AIM"
   ]
  },
  {
   "attachments": {},
   "cell_type": "markdown",
   "metadata": {},
   "source": [
    "## Introduction to Data Science Job\n",
    "\n",
    "Tasks -\n",
    "1. Basic data cleaning and feature exploration\n",
    "2. Exploratory data analysis\n",
    "3. Pipelines\n",
    "4. Model experimentation \n",
    "5. Feature Engineering"
   ]
  },
  {
   "cell_type": "code",
   "execution_count": 41,
   "metadata": {},
   "outputs": [],
   "source": [
    "# Import the relevant packages\n",
    "import pandas as pd\n",
    "import numpy as np\n",
    "import plotly.graph_objects as go\n",
    "import plotly.express as px\n",
    "import scipy.stats as stats\n",
    "import plotly.io as pio\n",
    "pio.renderers.default = \"vscode\""
   ]
  },
  {
   "attachments": {},
   "cell_type": "markdown",
   "metadata": {},
   "source": [
    "### Basic data exploration\n",
    "1. check the datasets\n",
    "2. combine the datasets\n",
    "3. Look at summary statistics\n",
    "4. Clean the dataset\n",
    "5. Check for the null values\n"
   ]
  },
  {
   "cell_type": "code",
   "execution_count": 42,
   "metadata": {},
   "outputs": [
    {
     "name": "stdout",
     "output_type": "stream",
     "text": [
      "job2 dataset shape = (652, 53)\n",
      "job dataset shape = (2088, 53)\n"
     ]
    }
   ],
   "source": [
    "# get data\n",
    "job2 = pd.read_csv('AustraliaDataScienceJob2.csv')\n",
    "job = pd.read_csv('AustraliaDataScienceJobs.csv')\n",
    "print(f'job2 dataset shape = {job2.shape}')\n",
    "print(f'job dataset shape = {job.shape}')"
   ]
  },
  {
   "cell_type": "code",
   "execution_count": 43,
   "metadata": {},
   "outputs": [
    {
     "name": "stdout",
     "output_type": "stream",
     "text": [
      "Shape of combined dataset = (2740, 53) \n"
     ]
    }
   ],
   "source": [
    "# combine both the dataset\n",
    "job = pd.concat([job, job2])\n",
    "print(f'Shape of combined dataset = {job.shape} ')"
   ]
  },
  {
   "cell_type": "code",
   "execution_count": 44,
   "metadata": {},
   "outputs": [
    {
     "data": {
      "text/html": [
       "<div>\n",
       "<style scoped>\n",
       "    .dataframe tbody tr th:only-of-type {\n",
       "        vertical-align: middle;\n",
       "    }\n",
       "\n",
       "    .dataframe tbody tr th {\n",
       "        vertical-align: top;\n",
       "    }\n",
       "\n",
       "    .dataframe thead th {\n",
       "        text-align: right;\n",
       "    }\n",
       "</style>\n",
       "<table border=\"1\" class=\"dataframe\">\n",
       "  <thead>\n",
       "    <tr style=\"text-align: right;\">\n",
       "      <th></th>\n",
       "      <th>Job Title</th>\n",
       "      <th>Job Location</th>\n",
       "      <th>Company</th>\n",
       "      <th>Url</th>\n",
       "      <th>Estimate Base Salary</th>\n",
       "      <th>Low Estimate</th>\n",
       "      <th>High Estimate</th>\n",
       "      <th>Company Size</th>\n",
       "      <th>Company Type</th>\n",
       "      <th>Company Sector</th>\n",
       "      <th>...</th>\n",
       "      <th>cassandra_yn</th>\n",
       "      <th>hive_yn</th>\n",
       "      <th>bigml_yn</th>\n",
       "      <th>tableau_yn</th>\n",
       "      <th>powerbi_yn</th>\n",
       "      <th>nlp_yn</th>\n",
       "      <th>pytorch_yn</th>\n",
       "      <th>tensorflow_yn</th>\n",
       "      <th>mathematic_yn</th>\n",
       "      <th>statistic_yn</th>\n",
       "    </tr>\n",
       "  </thead>\n",
       "  <tbody>\n",
       "    <tr>\n",
       "      <th>0</th>\n",
       "      <td>Analyst</td>\n",
       "      <td>Melbourne</td>\n",
       "      <td>ANZ Banking Group</td>\n",
       "      <td>https://www.glassdoor.com.au/partner/jobListin...</td>\n",
       "      <td>95917</td>\n",
       "      <td>80000</td>\n",
       "      <td>115000</td>\n",
       "      <td>10000+ Employees</td>\n",
       "      <td>Company - Public</td>\n",
       "      <td>Finance</td>\n",
       "      <td>...</td>\n",
       "      <td>0</td>\n",
       "      <td>0</td>\n",
       "      <td>0</td>\n",
       "      <td>0</td>\n",
       "      <td>0</td>\n",
       "      <td>0</td>\n",
       "      <td>0</td>\n",
       "      <td>0</td>\n",
       "      <td>1</td>\n",
       "      <td>0</td>\n",
       "    </tr>\n",
       "    <tr>\n",
       "      <th>1</th>\n",
       "      <td>Clinical Research Associate</td>\n",
       "      <td>Mulgrave</td>\n",
       "      <td>Bristol Myers Squibb</td>\n",
       "      <td>https://www.glassdoor.com.au/partner/jobListin...</td>\n",
       "      <td>96555</td>\n",
       "      <td>79000</td>\n",
       "      <td>118000</td>\n",
       "      <td>10000+ Employees</td>\n",
       "      <td>Company - Public</td>\n",
       "      <td>Pharmaceutical &amp; Biotechnology</td>\n",
       "      <td>...</td>\n",
       "      <td>0</td>\n",
       "      <td>0</td>\n",
       "      <td>0</td>\n",
       "      <td>0</td>\n",
       "      <td>0</td>\n",
       "      <td>0</td>\n",
       "      <td>0</td>\n",
       "      <td>0</td>\n",
       "      <td>0</td>\n",
       "      <td>0</td>\n",
       "    </tr>\n",
       "    <tr>\n",
       "      <th>2</th>\n",
       "      <td>Clinical Research Associate</td>\n",
       "      <td>Mulgrave</td>\n",
       "      <td>Bristol Myers Squibb</td>\n",
       "      <td>https://www.glassdoor.com.au/partner/jobListin...</td>\n",
       "      <td>96555</td>\n",
       "      <td>79000</td>\n",
       "      <td>118000</td>\n",
       "      <td>10000+ Employees</td>\n",
       "      <td>Company - Public</td>\n",
       "      <td>Pharmaceutical &amp; Biotechnology</td>\n",
       "      <td>...</td>\n",
       "      <td>0</td>\n",
       "      <td>0</td>\n",
       "      <td>0</td>\n",
       "      <td>0</td>\n",
       "      <td>0</td>\n",
       "      <td>0</td>\n",
       "      <td>0</td>\n",
       "      <td>0</td>\n",
       "      <td>0</td>\n",
       "      <td>0</td>\n",
       "    </tr>\n",
       "    <tr>\n",
       "      <th>3</th>\n",
       "      <td>Clinical Research Associate</td>\n",
       "      <td>Mulgrave</td>\n",
       "      <td>Bristol Myers Squibb</td>\n",
       "      <td>https://www.glassdoor.com.au/partner/jobListin...</td>\n",
       "      <td>96555</td>\n",
       "      <td>79000</td>\n",
       "      <td>118000</td>\n",
       "      <td>10000+ Employees</td>\n",
       "      <td>Company - Public</td>\n",
       "      <td>Pharmaceutical &amp; Biotechnology</td>\n",
       "      <td>...</td>\n",
       "      <td>0</td>\n",
       "      <td>0</td>\n",
       "      <td>0</td>\n",
       "      <td>0</td>\n",
       "      <td>0</td>\n",
       "      <td>0</td>\n",
       "      <td>0</td>\n",
       "      <td>0</td>\n",
       "      <td>0</td>\n",
       "      <td>0</td>\n",
       "    </tr>\n",
       "    <tr>\n",
       "      <th>4</th>\n",
       "      <td>Data Scientist</td>\n",
       "      <td>Melbourne</td>\n",
       "      <td>ANZ Banking Group</td>\n",
       "      <td>https://www.glassdoor.com.au/partner/jobListin...</td>\n",
       "      <td>115631</td>\n",
       "      <td>94000</td>\n",
       "      <td>143000</td>\n",
       "      <td>10000+ Employees</td>\n",
       "      <td>Company - Public</td>\n",
       "      <td>Finance</td>\n",
       "      <td>...</td>\n",
       "      <td>0</td>\n",
       "      <td>0</td>\n",
       "      <td>0</td>\n",
       "      <td>0</td>\n",
       "      <td>0</td>\n",
       "      <td>0</td>\n",
       "      <td>0</td>\n",
       "      <td>0</td>\n",
       "      <td>0</td>\n",
       "      <td>0</td>\n",
       "    </tr>\n",
       "  </tbody>\n",
       "</table>\n",
       "<p>5 rows × 53 columns</p>\n",
       "</div>"
      ],
      "text/plain": [
       "                     Job Title Job Location               Company  \\\n",
       "0                      Analyst    Melbourne     ANZ Banking Group   \n",
       "1  Clinical Research Associate     Mulgrave  Bristol Myers Squibb   \n",
       "2  Clinical Research Associate     Mulgrave  Bristol Myers Squibb   \n",
       "3  Clinical Research Associate     Mulgrave  Bristol Myers Squibb   \n",
       "4               Data Scientist    Melbourne     ANZ Banking Group   \n",
       "\n",
       "                                                 Url  Estimate Base Salary  \\\n",
       "0  https://www.glassdoor.com.au/partner/jobListin...                 95917   \n",
       "1  https://www.glassdoor.com.au/partner/jobListin...                 96555   \n",
       "2  https://www.glassdoor.com.au/partner/jobListin...                 96555   \n",
       "3  https://www.glassdoor.com.au/partner/jobListin...                 96555   \n",
       "4  https://www.glassdoor.com.au/partner/jobListin...                115631   \n",
       "\n",
       "   Low Estimate  High Estimate      Company Size      Company Type  \\\n",
       "0         80000         115000  10000+ Employees  Company - Public   \n",
       "1         79000         118000  10000+ Employees  Company - Public   \n",
       "2         79000         118000  10000+ Employees  Company - Public   \n",
       "3         79000         118000  10000+ Employees  Company - Public   \n",
       "4         94000         143000  10000+ Employees  Company - Public   \n",
       "\n",
       "                   Company Sector  ...  cassandra_yn hive_yn bigml_yn  \\\n",
       "0                         Finance  ...             0       0        0   \n",
       "1  Pharmaceutical & Biotechnology  ...             0       0        0   \n",
       "2  Pharmaceutical & Biotechnology  ...             0       0        0   \n",
       "3  Pharmaceutical & Biotechnology  ...             0       0        0   \n",
       "4                         Finance  ...             0       0        0   \n",
       "\n",
       "  tableau_yn  powerbi_yn  nlp_yn  pytorch_yn  tensorflow_yn  mathematic_yn  \\\n",
       "0          0           0       0           0              0              1   \n",
       "1          0           0       0           0              0              0   \n",
       "2          0           0       0           0              0              0   \n",
       "3          0           0       0           0              0              0   \n",
       "4          0           0       0           0              0              0   \n",
       "\n",
       "   statistic_yn  \n",
       "0             0  \n",
       "1             0  \n",
       "2             0  \n",
       "3             0  \n",
       "4             0  \n",
       "\n",
       "[5 rows x 53 columns]"
      ]
     },
     "execution_count": 44,
     "metadata": {},
     "output_type": "execute_result"
    }
   ],
   "source": [
    "job.head(5)"
   ]
  },
  {
   "cell_type": "code",
   "execution_count": 45,
   "metadata": {},
   "outputs": [
    {
     "data": {
      "text/html": [
       "<div>\n",
       "<style scoped>\n",
       "    .dataframe tbody tr th:only-of-type {\n",
       "        vertical-align: middle;\n",
       "    }\n",
       "\n",
       "    .dataframe tbody tr th {\n",
       "        vertical-align: top;\n",
       "    }\n",
       "\n",
       "    .dataframe thead th {\n",
       "        text-align: right;\n",
       "    }\n",
       "</style>\n",
       "<table border=\"1\" class=\"dataframe\">\n",
       "  <thead>\n",
       "    <tr style=\"text-align: right;\">\n",
       "      <th></th>\n",
       "      <th>Job Title</th>\n",
       "      <th>Job Location</th>\n",
       "      <th>Company</th>\n",
       "      <th>Url</th>\n",
       "      <th>Estimate Base Salary</th>\n",
       "      <th>Low Estimate</th>\n",
       "      <th>High Estimate</th>\n",
       "      <th>Company Size</th>\n",
       "      <th>Company Type</th>\n",
       "      <th>Company Sector</th>\n",
       "      <th>...</th>\n",
       "      <th>cassandra_yn</th>\n",
       "      <th>hive_yn</th>\n",
       "      <th>bigml_yn</th>\n",
       "      <th>tableau_yn</th>\n",
       "      <th>powerbi_yn</th>\n",
       "      <th>nlp_yn</th>\n",
       "      <th>pytorch_yn</th>\n",
       "      <th>tensorflow_yn</th>\n",
       "      <th>mathematic_yn</th>\n",
       "      <th>statistic_yn</th>\n",
       "    </tr>\n",
       "  </thead>\n",
       "  <tbody>\n",
       "    <tr>\n",
       "      <th>647</th>\n",
       "      <td>Electronics Engineer</td>\n",
       "      <td>Western Australia</td>\n",
       "      <td>Australian Antarctic Division</td>\n",
       "      <td>https://www.glassdoor.com.au/partner/jobListin...</td>\n",
       "      <td>92076</td>\n",
       "      <td>92000</td>\n",
       "      <td>92000</td>\n",
       "      <td>501 to 1000 Employees</td>\n",
       "      <td>Government</td>\n",
       "      <td>Government &amp; Public Administration</td>\n",
       "      <td>...</td>\n",
       "      <td>0</td>\n",
       "      <td>0</td>\n",
       "      <td>0</td>\n",
       "      <td>0</td>\n",
       "      <td>0</td>\n",
       "      <td>0</td>\n",
       "      <td>0</td>\n",
       "      <td>0</td>\n",
       "      <td>0</td>\n",
       "      <td>0</td>\n",
       "    </tr>\n",
       "    <tr>\n",
       "      <th>648</th>\n",
       "      <td>Construction</td>\n",
       "      <td>Perth</td>\n",
       "      <td>Chaleen Botha</td>\n",
       "      <td>https://www.glassdoor.com.au/partner/jobListin...</td>\n",
       "      <td>55000</td>\n",
       "      <td>50000</td>\n",
       "      <td>60000</td>\n",
       "      <td>NaN</td>\n",
       "      <td>NaN</td>\n",
       "      <td>NaN</td>\n",
       "      <td>...</td>\n",
       "      <td>0</td>\n",
       "      <td>0</td>\n",
       "      <td>0</td>\n",
       "      <td>0</td>\n",
       "      <td>0</td>\n",
       "      <td>0</td>\n",
       "      <td>0</td>\n",
       "      <td>0</td>\n",
       "      <td>0</td>\n",
       "      <td>0</td>\n",
       "    </tr>\n",
       "    <tr>\n",
       "      <th>649</th>\n",
       "      <td>Construction</td>\n",
       "      <td>Perth</td>\n",
       "      <td>Chaleen Botha</td>\n",
       "      <td>https://www.glassdoor.com.au/partner/jobListin...</td>\n",
       "      <td>55000</td>\n",
       "      <td>50000</td>\n",
       "      <td>60000</td>\n",
       "      <td>NaN</td>\n",
       "      <td>NaN</td>\n",
       "      <td>NaN</td>\n",
       "      <td>...</td>\n",
       "      <td>0</td>\n",
       "      <td>0</td>\n",
       "      <td>0</td>\n",
       "      <td>0</td>\n",
       "      <td>0</td>\n",
       "      <td>0</td>\n",
       "      <td>0</td>\n",
       "      <td>0</td>\n",
       "      <td>0</td>\n",
       "      <td>0</td>\n",
       "    </tr>\n",
       "    <tr>\n",
       "      <th>650</th>\n",
       "      <td>Metallurgical Engineer</td>\n",
       "      <td>Perth</td>\n",
       "      <td>BHP</td>\n",
       "      <td>https://www.glassdoor.com.au/partner/jobListin...</td>\n",
       "      <td>141443</td>\n",
       "      <td>121000</td>\n",
       "      <td>165000</td>\n",
       "      <td>10000+ Employees</td>\n",
       "      <td>Company - Public</td>\n",
       "      <td>Energy, Mining, Utilities</td>\n",
       "      <td>...</td>\n",
       "      <td>0</td>\n",
       "      <td>0</td>\n",
       "      <td>0</td>\n",
       "      <td>0</td>\n",
       "      <td>0</td>\n",
       "      <td>0</td>\n",
       "      <td>0</td>\n",
       "      <td>0</td>\n",
       "      <td>0</td>\n",
       "      <td>0</td>\n",
       "    </tr>\n",
       "    <tr>\n",
       "      <th>651</th>\n",
       "      <td>Metallurgical Engineer</td>\n",
       "      <td>Perth</td>\n",
       "      <td>BHP</td>\n",
       "      <td>https://www.glassdoor.com.au/partner/jobListin...</td>\n",
       "      <td>141443</td>\n",
       "      <td>121000</td>\n",
       "      <td>165000</td>\n",
       "      <td>10000+ Employees</td>\n",
       "      <td>Company - Public</td>\n",
       "      <td>Energy, Mining, Utilities</td>\n",
       "      <td>...</td>\n",
       "      <td>0</td>\n",
       "      <td>0</td>\n",
       "      <td>0</td>\n",
       "      <td>0</td>\n",
       "      <td>0</td>\n",
       "      <td>0</td>\n",
       "      <td>0</td>\n",
       "      <td>0</td>\n",
       "      <td>0</td>\n",
       "      <td>0</td>\n",
       "    </tr>\n",
       "  </tbody>\n",
       "</table>\n",
       "<p>5 rows × 53 columns</p>\n",
       "</div>"
      ],
      "text/plain": [
       "                  Job Title       Job Location                        Company  \\\n",
       "647    Electronics Engineer  Western Australia  Australian Antarctic Division   \n",
       "648            Construction              Perth                  Chaleen Botha   \n",
       "649            Construction              Perth                  Chaleen Botha   \n",
       "650  Metallurgical Engineer              Perth                            BHP   \n",
       "651  Metallurgical Engineer              Perth                            BHP   \n",
       "\n",
       "                                                   Url  Estimate Base Salary  \\\n",
       "647  https://www.glassdoor.com.au/partner/jobListin...                 92076   \n",
       "648  https://www.glassdoor.com.au/partner/jobListin...                 55000   \n",
       "649  https://www.glassdoor.com.au/partner/jobListin...                 55000   \n",
       "650  https://www.glassdoor.com.au/partner/jobListin...                141443   \n",
       "651  https://www.glassdoor.com.au/partner/jobListin...                141443   \n",
       "\n",
       "     Low Estimate  High Estimate           Company Size      Company Type  \\\n",
       "647         92000          92000  501 to 1000 Employees        Government   \n",
       "648         50000          60000                    NaN               NaN   \n",
       "649         50000          60000                    NaN               NaN   \n",
       "650        121000         165000       10000+ Employees  Company - Public   \n",
       "651        121000         165000       10000+ Employees  Company - Public   \n",
       "\n",
       "                         Company Sector  ...  cassandra_yn hive_yn bigml_yn  \\\n",
       "647  Government & Public Administration  ...             0       0        0   \n",
       "648                                 NaN  ...             0       0        0   \n",
       "649                                 NaN  ...             0       0        0   \n",
       "650           Energy, Mining, Utilities  ...             0       0        0   \n",
       "651           Energy, Mining, Utilities  ...             0       0        0   \n",
       "\n",
       "    tableau_yn  powerbi_yn  nlp_yn  pytorch_yn  tensorflow_yn  mathematic_yn  \\\n",
       "647          0           0       0           0              0              0   \n",
       "648          0           0       0           0              0              0   \n",
       "649          0           0       0           0              0              0   \n",
       "650          0           0       0           0              0              0   \n",
       "651          0           0       0           0              0              0   \n",
       "\n",
       "     statistic_yn  \n",
       "647             0  \n",
       "648             0  \n",
       "649             0  \n",
       "650             0  \n",
       "651             0  \n",
       "\n",
       "[5 rows x 53 columns]"
      ]
     },
     "execution_count": 45,
     "metadata": {},
     "output_type": "execute_result"
    }
   ],
   "source": [
    "job.tail(5)"
   ]
  },
  {
   "cell_type": "code",
   "execution_count": 46,
   "metadata": {},
   "outputs": [
    {
     "name": "stdout",
     "output_type": "stream",
     "text": [
      "<class 'pandas.core.frame.DataFrame'>\n",
      "Int64Index: 2740 entries, 0 to 651\n",
      "Data columns (total 53 columns):\n",
      " #   Column                         Non-Null Count  Dtype  \n",
      "---  ------                         --------------  -----  \n",
      " 0   Job Title                      2737 non-null   object \n",
      " 1   Job Location                   2740 non-null   object \n",
      " 2   Company                        2740 non-null   object \n",
      " 3   Url                            2740 non-null   object \n",
      " 4   Estimate Base Salary           2740 non-null   int64  \n",
      " 5   Low Estimate                   2740 non-null   int64  \n",
      " 6   High Estimate                  2740 non-null   int64  \n",
      " 7   Company Size                   2469 non-null   object \n",
      " 8   Company Type                   2469 non-null   object \n",
      " 9   Company Sector                 2000 non-null   object \n",
      " 10  Company Founded                1569 non-null   float64\n",
      " 11  Company Industry               2000 non-null   object \n",
      " 12  Company Revenue                2469 non-null   object \n",
      " 13  Job Descriptions               2739 non-null   object \n",
      " 14  Company Rating                 2314 non-null   float64\n",
      " 15  Company Friend Reccomendation  2225 non-null   float64\n",
      " 16  Company CEO Approval           1749 non-null   float64\n",
      " 17  Companny Number of Rater       1892 non-null   float64\n",
      " 18  Company Career Opportinities   2270 non-null   float64\n",
      " 19  Compensation and Benefits      2270 non-null   float64\n",
      " 20  Company Culture and Values     2270 non-null   float64\n",
      " 21  Company Senior Management      2270 non-null   float64\n",
      " 22  Company Work Life Balance      2270 non-null   float64\n",
      " 23  Country                        2740 non-null   object \n",
      " 24  State                          2740 non-null   object \n",
      " 25  python_yn                      2740 non-null   int64  \n",
      " 26  r_yn                           2740 non-null   int64  \n",
      " 27  sql_yn                         2740 non-null   int64  \n",
      " 28  java_yn                        2740 non-null   int64  \n",
      " 29  julia_yn                       2740 non-null   int64  \n",
      " 30  scala_yn                       2740 non-null   int64  \n",
      " 31  c_yn                           2740 non-null   int64  \n",
      " 32  c++_yn                         2740 non-null   int64  \n",
      " 33  javascript_yn                  2740 non-null   int64  \n",
      " 34  spark_yn                       2740 non-null   int64  \n",
      " 35  hadoop_yn                      2740 non-null   int64  \n",
      " 36  matlab_yn                      2740 non-null   int64  \n",
      " 37  sas_yn                         2740 non-null   int64  \n",
      " 38  git_yn                         2740 non-null   int64  \n",
      " 39  excel_yn                       2740 non-null   int64  \n",
      " 40  nosql_yn                       2740 non-null   int64  \n",
      " 41  aws_yn                         2740 non-null   int64  \n",
      " 42  mongodb_yn                     2740 non-null   int64  \n",
      " 43  cassandra_yn                   2740 non-null   int64  \n",
      " 44  hive_yn                        2740 non-null   int64  \n",
      " 45  bigml_yn                       2740 non-null   int64  \n",
      " 46  tableau_yn                     2740 non-null   int64  \n",
      " 47  powerbi_yn                     2740 non-null   int64  \n",
      " 48  nlp_yn                         2740 non-null   int64  \n",
      " 49  pytorch_yn                     2740 non-null   int64  \n",
      " 50  tensorflow_yn                  2740 non-null   int64  \n",
      " 51  mathematic_yn                  2740 non-null   int64  \n",
      " 52  statistic_yn                   2740 non-null   int64  \n",
      "dtypes: float64(10), int64(31), object(12)\n",
      "memory usage: 1.1+ MB\n"
     ]
    }
   ],
   "source": [
    "job.info()"
   ]
  },
  {
   "attachments": {},
   "cell_type": "markdown",
   "metadata": {},
   "source": [
    "Depict - \n",
    "1. There are 2740 entries in the dataset, which means that it is fairly small by machine learning standards.\n",
    "2. Null values in \n",
    "    1. Job Title\n",
    "    2. Company Size\n",
    "    3. Company Type\n",
    "    4. Company Secto\n",
    "    5. Company Founded\n",
    "    6. Company Industry\n",
    "    7. Company Revenue\n",
    "    8. Job Descriptions\n",
    "    9. Company Rating\n",
    "    10. Company Friend Reccomendation\n",
    "    11. Company CEO Approval           \n",
    "    12. Companny Number of Rater       \n",
    "    13. Company Career Opportinities   \n",
    "    14. Compensation and Benefits      \n",
    "    15. Company Culture and Values     \n",
    "    16. Company Senior Management      \n",
    "    17. Company Work Life Balance\n"
   ]
  },
  {
   "cell_type": "code",
   "execution_count": 47,
   "metadata": {},
   "outputs": [
    {
     "data": {
      "text/html": [
       "<div>\n",
       "<style scoped>\n",
       "    .dataframe tbody tr th:only-of-type {\n",
       "        vertical-align: middle;\n",
       "    }\n",
       "\n",
       "    .dataframe tbody tr th {\n",
       "        vertical-align: top;\n",
       "    }\n",
       "\n",
       "    .dataframe thead th {\n",
       "        text-align: right;\n",
       "    }\n",
       "</style>\n",
       "<table border=\"1\" class=\"dataframe\">\n",
       "  <thead>\n",
       "    <tr style=\"text-align: right;\">\n",
       "      <th></th>\n",
       "      <th>count</th>\n",
       "      <th>unique</th>\n",
       "      <th>top</th>\n",
       "      <th>freq</th>\n",
       "    </tr>\n",
       "  </thead>\n",
       "  <tbody>\n",
       "    <tr>\n",
       "      <th>Job Title</th>\n",
       "      <td>2737</td>\n",
       "      <td>352</td>\n",
       "      <td>Data Scientist</td>\n",
       "      <td>449</td>\n",
       "    </tr>\n",
       "    <tr>\n",
       "      <th>Job Location</th>\n",
       "      <td>2740</td>\n",
       "      <td>117</td>\n",
       "      <td>Melbourne</td>\n",
       "      <td>770</td>\n",
       "    </tr>\n",
       "    <tr>\n",
       "      <th>Company</th>\n",
       "      <td>2740</td>\n",
       "      <td>485</td>\n",
       "      <td>Deloitte</td>\n",
       "      <td>144</td>\n",
       "    </tr>\n",
       "    <tr>\n",
       "      <th>Url</th>\n",
       "      <td>2740</td>\n",
       "      <td>2740</td>\n",
       "      <td>https://www.glassdoor.com.au/partner/jobListin...</td>\n",
       "      <td>1</td>\n",
       "    </tr>\n",
       "    <tr>\n",
       "      <th>Company Size</th>\n",
       "      <td>2469</td>\n",
       "      <td>8</td>\n",
       "      <td>10000+ Employees</td>\n",
       "      <td>831</td>\n",
       "    </tr>\n",
       "    <tr>\n",
       "      <th>Company Type</th>\n",
       "      <td>2469</td>\n",
       "      <td>12</td>\n",
       "      <td>Company - Public</td>\n",
       "      <td>889</td>\n",
       "    </tr>\n",
       "    <tr>\n",
       "      <th>Company Sector</th>\n",
       "      <td>2000</td>\n",
       "      <td>24</td>\n",
       "      <td>Finance</td>\n",
       "      <td>401</td>\n",
       "    </tr>\n",
       "    <tr>\n",
       "      <th>Company Industry</th>\n",
       "      <td>2000</td>\n",
       "      <td>65</td>\n",
       "      <td>National Services &amp; Agencies</td>\n",
       "      <td>223</td>\n",
       "    </tr>\n",
       "    <tr>\n",
       "      <th>Company Revenue</th>\n",
       "      <td>2469</td>\n",
       "      <td>14</td>\n",
       "      <td>Unknown / Non-Applicable</td>\n",
       "      <td>968</td>\n",
       "    </tr>\n",
       "    <tr>\n",
       "      <th>Job Descriptions</th>\n",
       "      <td>2739</td>\n",
       "      <td>807</td>\n",
       "      <td>CSIRO’s Data61 is hiring:\\nWe have a range of ...</td>\n",
       "      <td>40</td>\n",
       "    </tr>\n",
       "    <tr>\n",
       "      <th>Country</th>\n",
       "      <td>2740</td>\n",
       "      <td>1</td>\n",
       "      <td>Australia</td>\n",
       "      <td>2740</td>\n",
       "    </tr>\n",
       "    <tr>\n",
       "      <th>State</th>\n",
       "      <td>2740</td>\n",
       "      <td>7</td>\n",
       "      <td>Victoria</td>\n",
       "      <td>1050</td>\n",
       "    </tr>\n",
       "  </tbody>\n",
       "</table>\n",
       "</div>"
      ],
      "text/plain": [
       "                 count unique  \\\n",
       "Job Title         2737    352   \n",
       "Job Location      2740    117   \n",
       "Company           2740    485   \n",
       "Url               2740   2740   \n",
       "Company Size      2469      8   \n",
       "Company Type      2469     12   \n",
       "Company Sector    2000     24   \n",
       "Company Industry  2000     65   \n",
       "Company Revenue   2469     14   \n",
       "Job Descriptions  2739    807   \n",
       "Country           2740      1   \n",
       "State             2740      7   \n",
       "\n",
       "                                                                top  freq  \n",
       "Job Title                                            Data Scientist   449  \n",
       "Job Location                                              Melbourne   770  \n",
       "Company                                                    Deloitte   144  \n",
       "Url               https://www.glassdoor.com.au/partner/jobListin...     1  \n",
       "Company Size                                       10000+ Employees   831  \n",
       "Company Type                                       Company - Public   889  \n",
       "Company Sector                                              Finance   401  \n",
       "Company Industry                       National Services & Agencies   223  \n",
       "Company Revenue                            Unknown / Non-Applicable   968  \n",
       "Job Descriptions  CSIRO’s Data61 is hiring:\\nWe have a range of ...    40  \n",
       "Country                                                   Australia  2740  \n",
       "State                                                      Victoria  1050  "
      ]
     },
     "execution_count": 47,
     "metadata": {},
     "output_type": "execute_result"
    }
   ],
   "source": [
    "# Summary of categorical features\n",
    "cat_feature = job.select_dtypes(include=[object])\n",
    "cat_feature.describe().T"
   ]
  },
  {
   "attachments": {},
   "cell_type": "markdown",
   "metadata": {},
   "source": [
    "#### Depict\n",
    "1. The URL feature comprises entirely distinct values, which means it will not have any impact on the prediction\n",
    "2. The country feature has only one unique value, therefore it will not contribute to the prediction."
   ]
  },
  {
   "cell_type": "code",
   "execution_count": 48,
   "metadata": {},
   "outputs": [
    {
     "data": {
      "text/html": [
       "<div>\n",
       "<style scoped>\n",
       "    .dataframe tbody tr th:only-of-type {\n",
       "        vertical-align: middle;\n",
       "    }\n",
       "\n",
       "    .dataframe tbody tr th {\n",
       "        vertical-align: top;\n",
       "    }\n",
       "\n",
       "    .dataframe thead th {\n",
       "        text-align: right;\n",
       "    }\n",
       "</style>\n",
       "<table border=\"1\" class=\"dataframe\">\n",
       "  <thead>\n",
       "    <tr style=\"text-align: right;\">\n",
       "      <th></th>\n",
       "      <th>count</th>\n",
       "      <th>mean</th>\n",
       "      <th>std</th>\n",
       "      <th>min</th>\n",
       "      <th>25%</th>\n",
       "      <th>50%</th>\n",
       "      <th>75%</th>\n",
       "      <th>max</th>\n",
       "    </tr>\n",
       "  </thead>\n",
       "  <tbody>\n",
       "    <tr>\n",
       "      <th>Estimate Base Salary</th>\n",
       "      <td>2740.0</td>\n",
       "      <td>103185.945255</td>\n",
       "      <td>32620.513310</td>\n",
       "      <td>40500.0</td>\n",
       "      <td>80623.0</td>\n",
       "      <td>96130.0</td>\n",
       "      <td>120181.0</td>\n",
       "      <td>295000.0</td>\n",
       "    </tr>\n",
       "    <tr>\n",
       "      <th>Low Estimate</th>\n",
       "      <td>2740.0</td>\n",
       "      <td>91380.291971</td>\n",
       "      <td>29172.947652</td>\n",
       "      <td>30000.0</td>\n",
       "      <td>73000.0</td>\n",
       "      <td>87000.0</td>\n",
       "      <td>106000.0</td>\n",
       "      <td>241000.0</td>\n",
       "    </tr>\n",
       "    <tr>\n",
       "      <th>High Estimate</th>\n",
       "      <td>2740.0</td>\n",
       "      <td>116798.905109</td>\n",
       "      <td>38793.121065</td>\n",
       "      <td>41000.0</td>\n",
       "      <td>90000.0</td>\n",
       "      <td>114000.0</td>\n",
       "      <td>140000.0</td>\n",
       "      <td>349000.0</td>\n",
       "    </tr>\n",
       "    <tr>\n",
       "      <th>Company Founded</th>\n",
       "      <td>1569.0</td>\n",
       "      <td>1942.167623</td>\n",
       "      <td>63.627829</td>\n",
       "      <td>1631.0</td>\n",
       "      <td>1888.0</td>\n",
       "      <td>1949.0</td>\n",
       "      <td>2001.0</td>\n",
       "      <td>2020.0</td>\n",
       "    </tr>\n",
       "    <tr>\n",
       "      <th>Company Rating</th>\n",
       "      <td>2314.0</td>\n",
       "      <td>3.884313</td>\n",
       "      <td>0.517118</td>\n",
       "      <td>1.6</td>\n",
       "      <td>3.7</td>\n",
       "      <td>3.9</td>\n",
       "      <td>4.1</td>\n",
       "      <td>5.0</td>\n",
       "    </tr>\n",
       "    <tr>\n",
       "      <th>Company Friend Reccomendation</th>\n",
       "      <td>2225.0</td>\n",
       "      <td>76.335281</td>\n",
       "      <td>14.861318</td>\n",
       "      <td>15.0</td>\n",
       "      <td>69.0</td>\n",
       "      <td>79.0</td>\n",
       "      <td>85.0</td>\n",
       "      <td>100.0</td>\n",
       "    </tr>\n",
       "    <tr>\n",
       "      <th>Company CEO Approval</th>\n",
       "      <td>1749.0</td>\n",
       "      <td>77.934248</td>\n",
       "      <td>16.725428</td>\n",
       "      <td>7.0</td>\n",
       "      <td>72.0</td>\n",
       "      <td>83.0</td>\n",
       "      <td>88.0</td>\n",
       "      <td>100.0</td>\n",
       "    </tr>\n",
       "    <tr>\n",
       "      <th>Companny Number of Rater</th>\n",
       "      <td>1892.0</td>\n",
       "      <td>1757.846723</td>\n",
       "      <td>4647.614482</td>\n",
       "      <td>0.0</td>\n",
       "      <td>0.0</td>\n",
       "      <td>42.0</td>\n",
       "      <td>1014.0</td>\n",
       "      <td>30783.0</td>\n",
       "    </tr>\n",
       "    <tr>\n",
       "      <th>Company Career Opportinities</th>\n",
       "      <td>2270.0</td>\n",
       "      <td>3.690529</td>\n",
       "      <td>0.542892</td>\n",
       "      <td>1.0</td>\n",
       "      <td>3.4</td>\n",
       "      <td>3.7</td>\n",
       "      <td>4.0</td>\n",
       "      <td>5.0</td>\n",
       "    </tr>\n",
       "    <tr>\n",
       "      <th>Compensation and Benefits</th>\n",
       "      <td>2270.0</td>\n",
       "      <td>3.628502</td>\n",
       "      <td>0.531140</td>\n",
       "      <td>1.0</td>\n",
       "      <td>3.4</td>\n",
       "      <td>3.6</td>\n",
       "      <td>3.9</td>\n",
       "      <td>5.0</td>\n",
       "    </tr>\n",
       "    <tr>\n",
       "      <th>Company Culture and Values</th>\n",
       "      <td>2270.0</td>\n",
       "      <td>3.852335</td>\n",
       "      <td>0.564251</td>\n",
       "      <td>1.0</td>\n",
       "      <td>3.5</td>\n",
       "      <td>3.9</td>\n",
       "      <td>4.1</td>\n",
       "      <td>5.0</td>\n",
       "    </tr>\n",
       "    <tr>\n",
       "      <th>Company Senior Management</th>\n",
       "      <td>2270.0</td>\n",
       "      <td>3.452819</td>\n",
       "      <td>0.575394</td>\n",
       "      <td>1.0</td>\n",
       "      <td>3.1</td>\n",
       "      <td>3.5</td>\n",
       "      <td>3.7</td>\n",
       "      <td>5.0</td>\n",
       "    </tr>\n",
       "    <tr>\n",
       "      <th>Company Work Life Balance</th>\n",
       "      <td>2270.0</td>\n",
       "      <td>3.772291</td>\n",
       "      <td>0.589988</td>\n",
       "      <td>1.0</td>\n",
       "      <td>3.4</td>\n",
       "      <td>3.8</td>\n",
       "      <td>4.1</td>\n",
       "      <td>5.0</td>\n",
       "    </tr>\n",
       "    <tr>\n",
       "      <th>python_yn</th>\n",
       "      <td>2740.0</td>\n",
       "      <td>0.325912</td>\n",
       "      <td>0.468800</td>\n",
       "      <td>0.0</td>\n",
       "      <td>0.0</td>\n",
       "      <td>0.0</td>\n",
       "      <td>1.0</td>\n",
       "      <td>1.0</td>\n",
       "    </tr>\n",
       "    <tr>\n",
       "      <th>r_yn</th>\n",
       "      <td>2740.0</td>\n",
       "      <td>0.180292</td>\n",
       "      <td>0.384501</td>\n",
       "      <td>0.0</td>\n",
       "      <td>0.0</td>\n",
       "      <td>0.0</td>\n",
       "      <td>0.0</td>\n",
       "      <td>1.0</td>\n",
       "    </tr>\n",
       "    <tr>\n",
       "      <th>sql_yn</th>\n",
       "      <td>2740.0</td>\n",
       "      <td>0.327737</td>\n",
       "      <td>0.469474</td>\n",
       "      <td>0.0</td>\n",
       "      <td>0.0</td>\n",
       "      <td>0.0</td>\n",
       "      <td>1.0</td>\n",
       "      <td>1.0</td>\n",
       "    </tr>\n",
       "    <tr>\n",
       "      <th>java_yn</th>\n",
       "      <td>2740.0</td>\n",
       "      <td>0.091606</td>\n",
       "      <td>0.288521</td>\n",
       "      <td>0.0</td>\n",
       "      <td>0.0</td>\n",
       "      <td>0.0</td>\n",
       "      <td>0.0</td>\n",
       "      <td>1.0</td>\n",
       "    </tr>\n",
       "    <tr>\n",
       "      <th>julia_yn</th>\n",
       "      <td>2740.0</td>\n",
       "      <td>0.002920</td>\n",
       "      <td>0.053965</td>\n",
       "      <td>0.0</td>\n",
       "      <td>0.0</td>\n",
       "      <td>0.0</td>\n",
       "      <td>0.0</td>\n",
       "      <td>1.0</td>\n",
       "    </tr>\n",
       "    <tr>\n",
       "      <th>scala_yn</th>\n",
       "      <td>2740.0</td>\n",
       "      <td>0.041606</td>\n",
       "      <td>0.199723</td>\n",
       "      <td>0.0</td>\n",
       "      <td>0.0</td>\n",
       "      <td>0.0</td>\n",
       "      <td>0.0</td>\n",
       "      <td>1.0</td>\n",
       "    </tr>\n",
       "    <tr>\n",
       "      <th>c_yn</th>\n",
       "      <td>2740.0</td>\n",
       "      <td>0.017153</td>\n",
       "      <td>0.129866</td>\n",
       "      <td>0.0</td>\n",
       "      <td>0.0</td>\n",
       "      <td>0.0</td>\n",
       "      <td>0.0</td>\n",
       "      <td>1.0</td>\n",
       "    </tr>\n",
       "    <tr>\n",
       "      <th>c++_yn</th>\n",
       "      <td>2740.0</td>\n",
       "      <td>0.076277</td>\n",
       "      <td>0.265490</td>\n",
       "      <td>0.0</td>\n",
       "      <td>0.0</td>\n",
       "      <td>0.0</td>\n",
       "      <td>0.0</td>\n",
       "      <td>1.0</td>\n",
       "    </tr>\n",
       "    <tr>\n",
       "      <th>javascript_yn</th>\n",
       "      <td>2740.0</td>\n",
       "      <td>0.024818</td>\n",
       "      <td>0.155597</td>\n",
       "      <td>0.0</td>\n",
       "      <td>0.0</td>\n",
       "      <td>0.0</td>\n",
       "      <td>0.0</td>\n",
       "      <td>1.0</td>\n",
       "    </tr>\n",
       "    <tr>\n",
       "      <th>spark_yn</th>\n",
       "      <td>2740.0</td>\n",
       "      <td>0.054015</td>\n",
       "      <td>0.226088</td>\n",
       "      <td>0.0</td>\n",
       "      <td>0.0</td>\n",
       "      <td>0.0</td>\n",
       "      <td>0.0</td>\n",
       "      <td>1.0</td>\n",
       "    </tr>\n",
       "    <tr>\n",
       "      <th>hadoop_yn</th>\n",
       "      <td>2740.0</td>\n",
       "      <td>0.024818</td>\n",
       "      <td>0.155597</td>\n",
       "      <td>0.0</td>\n",
       "      <td>0.0</td>\n",
       "      <td>0.0</td>\n",
       "      <td>0.0</td>\n",
       "      <td>1.0</td>\n",
       "    </tr>\n",
       "    <tr>\n",
       "      <th>matlab_yn</th>\n",
       "      <td>2740.0</td>\n",
       "      <td>0.014964</td>\n",
       "      <td>0.121429</td>\n",
       "      <td>0.0</td>\n",
       "      <td>0.0</td>\n",
       "      <td>0.0</td>\n",
       "      <td>0.0</td>\n",
       "      <td>1.0</td>\n",
       "    </tr>\n",
       "    <tr>\n",
       "      <th>sas_yn</th>\n",
       "      <td>2740.0</td>\n",
       "      <td>0.024818</td>\n",
       "      <td>0.155597</td>\n",
       "      <td>0.0</td>\n",
       "      <td>0.0</td>\n",
       "      <td>0.0</td>\n",
       "      <td>0.0</td>\n",
       "      <td>1.0</td>\n",
       "    </tr>\n",
       "    <tr>\n",
       "      <th>git_yn</th>\n",
       "      <td>2740.0</td>\n",
       "      <td>0.048540</td>\n",
       "      <td>0.214944</td>\n",
       "      <td>0.0</td>\n",
       "      <td>0.0</td>\n",
       "      <td>0.0</td>\n",
       "      <td>0.0</td>\n",
       "      <td>1.0</td>\n",
       "    </tr>\n",
       "    <tr>\n",
       "      <th>excel_yn</th>\n",
       "      <td>2740.0</td>\n",
       "      <td>0.126642</td>\n",
       "      <td>0.332633</td>\n",
       "      <td>0.0</td>\n",
       "      <td>0.0</td>\n",
       "      <td>0.0</td>\n",
       "      <td>0.0</td>\n",
       "      <td>1.0</td>\n",
       "    </tr>\n",
       "    <tr>\n",
       "      <th>nosql_yn</th>\n",
       "      <td>2740.0</td>\n",
       "      <td>0.004380</td>\n",
       "      <td>0.066045</td>\n",
       "      <td>0.0</td>\n",
       "      <td>0.0</td>\n",
       "      <td>0.0</td>\n",
       "      <td>0.0</td>\n",
       "      <td>1.0</td>\n",
       "    </tr>\n",
       "    <tr>\n",
       "      <th>aws_yn</th>\n",
       "      <td>2740.0</td>\n",
       "      <td>0.096350</td>\n",
       "      <td>0.295125</td>\n",
       "      <td>0.0</td>\n",
       "      <td>0.0</td>\n",
       "      <td>0.0</td>\n",
       "      <td>0.0</td>\n",
       "      <td>1.0</td>\n",
       "    </tr>\n",
       "    <tr>\n",
       "      <th>mongodb_yn</th>\n",
       "      <td>2740.0</td>\n",
       "      <td>0.012044</td>\n",
       "      <td>0.109101</td>\n",
       "      <td>0.0</td>\n",
       "      <td>0.0</td>\n",
       "      <td>0.0</td>\n",
       "      <td>0.0</td>\n",
       "      <td>1.0</td>\n",
       "    </tr>\n",
       "    <tr>\n",
       "      <th>cassandra_yn</th>\n",
       "      <td>2740.0</td>\n",
       "      <td>0.000365</td>\n",
       "      <td>0.019104</td>\n",
       "      <td>0.0</td>\n",
       "      <td>0.0</td>\n",
       "      <td>0.0</td>\n",
       "      <td>0.0</td>\n",
       "      <td>1.0</td>\n",
       "    </tr>\n",
       "    <tr>\n",
       "      <th>hive_yn</th>\n",
       "      <td>2740.0</td>\n",
       "      <td>0.039416</td>\n",
       "      <td>0.194618</td>\n",
       "      <td>0.0</td>\n",
       "      <td>0.0</td>\n",
       "      <td>0.0</td>\n",
       "      <td>0.0</td>\n",
       "      <td>1.0</td>\n",
       "    </tr>\n",
       "    <tr>\n",
       "      <th>bigml_yn</th>\n",
       "      <td>2740.0</td>\n",
       "      <td>0.000000</td>\n",
       "      <td>0.000000</td>\n",
       "      <td>0.0</td>\n",
       "      <td>0.0</td>\n",
       "      <td>0.0</td>\n",
       "      <td>0.0</td>\n",
       "      <td>0.0</td>\n",
       "    </tr>\n",
       "    <tr>\n",
       "      <th>tableau_yn</th>\n",
       "      <td>2740.0</td>\n",
       "      <td>0.090876</td>\n",
       "      <td>0.287485</td>\n",
       "      <td>0.0</td>\n",
       "      <td>0.0</td>\n",
       "      <td>0.0</td>\n",
       "      <td>0.0</td>\n",
       "      <td>1.0</td>\n",
       "    </tr>\n",
       "    <tr>\n",
       "      <th>powerbi_yn</th>\n",
       "      <td>2740.0</td>\n",
       "      <td>0.049635</td>\n",
       "      <td>0.217229</td>\n",
       "      <td>0.0</td>\n",
       "      <td>0.0</td>\n",
       "      <td>0.0</td>\n",
       "      <td>0.0</td>\n",
       "      <td>1.0</td>\n",
       "    </tr>\n",
       "    <tr>\n",
       "      <th>nlp_yn</th>\n",
       "      <td>2740.0</td>\n",
       "      <td>0.044891</td>\n",
       "      <td>0.207101</td>\n",
       "      <td>0.0</td>\n",
       "      <td>0.0</td>\n",
       "      <td>0.0</td>\n",
       "      <td>0.0</td>\n",
       "      <td>1.0</td>\n",
       "    </tr>\n",
       "    <tr>\n",
       "      <th>pytorch_yn</th>\n",
       "      <td>2740.0</td>\n",
       "      <td>0.009124</td>\n",
       "      <td>0.095101</td>\n",
       "      <td>0.0</td>\n",
       "      <td>0.0</td>\n",
       "      <td>0.0</td>\n",
       "      <td>0.0</td>\n",
       "      <td>1.0</td>\n",
       "    </tr>\n",
       "    <tr>\n",
       "      <th>tensorflow_yn</th>\n",
       "      <td>2740.0</td>\n",
       "      <td>0.014234</td>\n",
       "      <td>0.118474</td>\n",
       "      <td>0.0</td>\n",
       "      <td>0.0</td>\n",
       "      <td>0.0</td>\n",
       "      <td>0.0</td>\n",
       "      <td>1.0</td>\n",
       "    </tr>\n",
       "    <tr>\n",
       "      <th>mathematic_yn</th>\n",
       "      <td>2740.0</td>\n",
       "      <td>0.193431</td>\n",
       "      <td>0.395060</td>\n",
       "      <td>0.0</td>\n",
       "      <td>0.0</td>\n",
       "      <td>0.0</td>\n",
       "      <td>0.0</td>\n",
       "      <td>1.0</td>\n",
       "    </tr>\n",
       "    <tr>\n",
       "      <th>statistic_yn</th>\n",
       "      <td>2740.0</td>\n",
       "      <td>0.144891</td>\n",
       "      <td>0.352055</td>\n",
       "      <td>0.0</td>\n",
       "      <td>0.0</td>\n",
       "      <td>0.0</td>\n",
       "      <td>0.0</td>\n",
       "      <td>1.0</td>\n",
       "    </tr>\n",
       "  </tbody>\n",
       "</table>\n",
       "</div>"
      ],
      "text/plain": [
       "                                count           mean           std      min  \\\n",
       "Estimate Base Salary           2740.0  103185.945255  32620.513310  40500.0   \n",
       "Low Estimate                   2740.0   91380.291971  29172.947652  30000.0   \n",
       "High Estimate                  2740.0  116798.905109  38793.121065  41000.0   \n",
       "Company Founded                1569.0    1942.167623     63.627829   1631.0   \n",
       "Company Rating                 2314.0       3.884313      0.517118      1.6   \n",
       "Company Friend Reccomendation  2225.0      76.335281     14.861318     15.0   \n",
       "Company CEO Approval           1749.0      77.934248     16.725428      7.0   \n",
       "Companny Number of Rater       1892.0    1757.846723   4647.614482      0.0   \n",
       "Company Career Opportinities   2270.0       3.690529      0.542892      1.0   \n",
       "Compensation and Benefits      2270.0       3.628502      0.531140      1.0   \n",
       "Company Culture and Values     2270.0       3.852335      0.564251      1.0   \n",
       "Company Senior Management      2270.0       3.452819      0.575394      1.0   \n",
       "Company Work Life Balance      2270.0       3.772291      0.589988      1.0   \n",
       "python_yn                      2740.0       0.325912      0.468800      0.0   \n",
       "r_yn                           2740.0       0.180292      0.384501      0.0   \n",
       "sql_yn                         2740.0       0.327737      0.469474      0.0   \n",
       "java_yn                        2740.0       0.091606      0.288521      0.0   \n",
       "julia_yn                       2740.0       0.002920      0.053965      0.0   \n",
       "scala_yn                       2740.0       0.041606      0.199723      0.0   \n",
       "c_yn                           2740.0       0.017153      0.129866      0.0   \n",
       "c++_yn                         2740.0       0.076277      0.265490      0.0   \n",
       "javascript_yn                  2740.0       0.024818      0.155597      0.0   \n",
       "spark_yn                       2740.0       0.054015      0.226088      0.0   \n",
       "hadoop_yn                      2740.0       0.024818      0.155597      0.0   \n",
       "matlab_yn                      2740.0       0.014964      0.121429      0.0   \n",
       "sas_yn                         2740.0       0.024818      0.155597      0.0   \n",
       "git_yn                         2740.0       0.048540      0.214944      0.0   \n",
       "excel_yn                       2740.0       0.126642      0.332633      0.0   \n",
       "nosql_yn                       2740.0       0.004380      0.066045      0.0   \n",
       "aws_yn                         2740.0       0.096350      0.295125      0.0   \n",
       "mongodb_yn                     2740.0       0.012044      0.109101      0.0   \n",
       "cassandra_yn                   2740.0       0.000365      0.019104      0.0   \n",
       "hive_yn                        2740.0       0.039416      0.194618      0.0   \n",
       "bigml_yn                       2740.0       0.000000      0.000000      0.0   \n",
       "tableau_yn                     2740.0       0.090876      0.287485      0.0   \n",
       "powerbi_yn                     2740.0       0.049635      0.217229      0.0   \n",
       "nlp_yn                         2740.0       0.044891      0.207101      0.0   \n",
       "pytorch_yn                     2740.0       0.009124      0.095101      0.0   \n",
       "tensorflow_yn                  2740.0       0.014234      0.118474      0.0   \n",
       "mathematic_yn                  2740.0       0.193431      0.395060      0.0   \n",
       "statistic_yn                   2740.0       0.144891      0.352055      0.0   \n",
       "\n",
       "                                   25%       50%       75%       max  \n",
       "Estimate Base Salary           80623.0   96130.0  120181.0  295000.0  \n",
       "Low Estimate                   73000.0   87000.0  106000.0  241000.0  \n",
       "High Estimate                  90000.0  114000.0  140000.0  349000.0  \n",
       "Company Founded                 1888.0    1949.0    2001.0    2020.0  \n",
       "Company Rating                     3.7       3.9       4.1       5.0  \n",
       "Company Friend Reccomendation     69.0      79.0      85.0     100.0  \n",
       "Company CEO Approval              72.0      83.0      88.0     100.0  \n",
       "Companny Number of Rater           0.0      42.0    1014.0   30783.0  \n",
       "Company Career Opportinities       3.4       3.7       4.0       5.0  \n",
       "Compensation and Benefits          3.4       3.6       3.9       5.0  \n",
       "Company Culture and Values         3.5       3.9       4.1       5.0  \n",
       "Company Senior Management          3.1       3.5       3.7       5.0  \n",
       "Company Work Life Balance          3.4       3.8       4.1       5.0  \n",
       "python_yn                          0.0       0.0       1.0       1.0  \n",
       "r_yn                               0.0       0.0       0.0       1.0  \n",
       "sql_yn                             0.0       0.0       1.0       1.0  \n",
       "java_yn                            0.0       0.0       0.0       1.0  \n",
       "julia_yn                           0.0       0.0       0.0       1.0  \n",
       "scala_yn                           0.0       0.0       0.0       1.0  \n",
       "c_yn                               0.0       0.0       0.0       1.0  \n",
       "c++_yn                             0.0       0.0       0.0       1.0  \n",
       "javascript_yn                      0.0       0.0       0.0       1.0  \n",
       "spark_yn                           0.0       0.0       0.0       1.0  \n",
       "hadoop_yn                          0.0       0.0       0.0       1.0  \n",
       "matlab_yn                          0.0       0.0       0.0       1.0  \n",
       "sas_yn                             0.0       0.0       0.0       1.0  \n",
       "git_yn                             0.0       0.0       0.0       1.0  \n",
       "excel_yn                           0.0       0.0       0.0       1.0  \n",
       "nosql_yn                           0.0       0.0       0.0       1.0  \n",
       "aws_yn                             0.0       0.0       0.0       1.0  \n",
       "mongodb_yn                         0.0       0.0       0.0       1.0  \n",
       "cassandra_yn                       0.0       0.0       0.0       1.0  \n",
       "hive_yn                            0.0       0.0       0.0       1.0  \n",
       "bigml_yn                           0.0       0.0       0.0       0.0  \n",
       "tableau_yn                         0.0       0.0       0.0       1.0  \n",
       "powerbi_yn                         0.0       0.0       0.0       1.0  \n",
       "nlp_yn                             0.0       0.0       0.0       1.0  \n",
       "pytorch_yn                         0.0       0.0       0.0       1.0  \n",
       "tensorflow_yn                      0.0       0.0       0.0       1.0  \n",
       "mathematic_yn                      0.0       0.0       0.0       1.0  \n",
       "statistic_yn                       0.0       0.0       0.0       1.0  "
      ]
     },
     "execution_count": 48,
     "metadata": {},
     "output_type": "execute_result"
    }
   ],
   "source": [
    "# Summary of numerical features\n",
    "num_features = job.select_dtypes(include=[np.number])\n",
    "num_features.describe().T"
   ]
  },
  {
   "attachments": {},
   "cell_type": "markdown",
   "metadata": {},
   "source": [
    "#### Depict -\n",
    "1. Company founded is not a numeric feature, so convert it into date or string.\n",
    "2. Check the company founded years and remove all the years less than 2000"
   ]
  },
  {
   "cell_type": "code",
   "execution_count": 49,
   "metadata": {},
   "outputs": [
    {
     "data": {
      "text/html": [
       "<div>\n",
       "<style scoped>\n",
       "    .dataframe tbody tr th:only-of-type {\n",
       "        vertical-align: middle;\n",
       "    }\n",
       "\n",
       "    .dataframe tbody tr th {\n",
       "        vertical-align: top;\n",
       "    }\n",
       "\n",
       "    .dataframe thead th {\n",
       "        text-align: right;\n",
       "    }\n",
       "</style>\n",
       "<table border=\"1\" class=\"dataframe\">\n",
       "  <thead>\n",
       "    <tr style=\"text-align: right;\">\n",
       "      <th></th>\n",
       "      <th>index</th>\n",
       "      <th>null_count</th>\n",
       "      <th>percentage_missing</th>\n",
       "    </tr>\n",
       "  </thead>\n",
       "  <tbody>\n",
       "    <tr>\n",
       "      <th>10</th>\n",
       "      <td>Company Founded</td>\n",
       "      <td>1171</td>\n",
       "      <td>42.737226</td>\n",
       "    </tr>\n",
       "    <tr>\n",
       "      <th>16</th>\n",
       "      <td>Company CEO Approval</td>\n",
       "      <td>991</td>\n",
       "      <td>36.167883</td>\n",
       "    </tr>\n",
       "    <tr>\n",
       "      <th>17</th>\n",
       "      <td>Companny Number of Rater</td>\n",
       "      <td>848</td>\n",
       "      <td>30.948905</td>\n",
       "    </tr>\n",
       "    <tr>\n",
       "      <th>9</th>\n",
       "      <td>Company Sector</td>\n",
       "      <td>740</td>\n",
       "      <td>27.007299</td>\n",
       "    </tr>\n",
       "    <tr>\n",
       "      <th>11</th>\n",
       "      <td>Company Industry</td>\n",
       "      <td>740</td>\n",
       "      <td>27.007299</td>\n",
       "    </tr>\n",
       "    <tr>\n",
       "      <th>15</th>\n",
       "      <td>Company Friend Reccomendation</td>\n",
       "      <td>515</td>\n",
       "      <td>18.795620</td>\n",
       "    </tr>\n",
       "    <tr>\n",
       "      <th>22</th>\n",
       "      <td>Company Work Life Balance</td>\n",
       "      <td>470</td>\n",
       "      <td>17.153285</td>\n",
       "    </tr>\n",
       "    <tr>\n",
       "      <th>21</th>\n",
       "      <td>Company Senior Management</td>\n",
       "      <td>470</td>\n",
       "      <td>17.153285</td>\n",
       "    </tr>\n",
       "    <tr>\n",
       "      <th>20</th>\n",
       "      <td>Company Culture and Values</td>\n",
       "      <td>470</td>\n",
       "      <td>17.153285</td>\n",
       "    </tr>\n",
       "    <tr>\n",
       "      <th>19</th>\n",
       "      <td>Compensation and Benefits</td>\n",
       "      <td>470</td>\n",
       "      <td>17.153285</td>\n",
       "    </tr>\n",
       "    <tr>\n",
       "      <th>18</th>\n",
       "      <td>Company Career Opportinities</td>\n",
       "      <td>470</td>\n",
       "      <td>17.153285</td>\n",
       "    </tr>\n",
       "    <tr>\n",
       "      <th>14</th>\n",
       "      <td>Company Rating</td>\n",
       "      <td>426</td>\n",
       "      <td>15.547445</td>\n",
       "    </tr>\n",
       "    <tr>\n",
       "      <th>7</th>\n",
       "      <td>Company Size</td>\n",
       "      <td>271</td>\n",
       "      <td>9.890511</td>\n",
       "    </tr>\n",
       "    <tr>\n",
       "      <th>12</th>\n",
       "      <td>Company Revenue</td>\n",
       "      <td>271</td>\n",
       "      <td>9.890511</td>\n",
       "    </tr>\n",
       "    <tr>\n",
       "      <th>8</th>\n",
       "      <td>Company Type</td>\n",
       "      <td>271</td>\n",
       "      <td>9.890511</td>\n",
       "    </tr>\n",
       "    <tr>\n",
       "      <th>0</th>\n",
       "      <td>Job Title</td>\n",
       "      <td>3</td>\n",
       "      <td>0.109489</td>\n",
       "    </tr>\n",
       "    <tr>\n",
       "      <th>13</th>\n",
       "      <td>Job Descriptions</td>\n",
       "      <td>1</td>\n",
       "      <td>0.036496</td>\n",
       "    </tr>\n",
       "  </tbody>\n",
       "</table>\n",
       "</div>"
      ],
      "text/plain": [
       "                            index  null_count  percentage_missing\n",
       "10                Company Founded        1171           42.737226\n",
       "16           Company CEO Approval         991           36.167883\n",
       "17       Companny Number of Rater         848           30.948905\n",
       "9                  Company Sector         740           27.007299\n",
       "11               Company Industry         740           27.007299\n",
       "15  Company Friend Reccomendation         515           18.795620\n",
       "22      Company Work Life Balance         470           17.153285\n",
       "21      Company Senior Management         470           17.153285\n",
       "20     Company Culture and Values         470           17.153285\n",
       "19      Compensation and Benefits         470           17.153285\n",
       "18   Company Career Opportinities         470           17.153285\n",
       "14                 Company Rating         426           15.547445\n",
       "7                    Company Size         271            9.890511\n",
       "12                Company Revenue         271            9.890511\n",
       "8                    Company Type         271            9.890511\n",
       "0                       Job Title           3            0.109489\n",
       "13               Job Descriptions           1            0.036496"
      ]
     },
     "execution_count": 49,
     "metadata": {},
     "output_type": "execute_result"
    }
   ],
   "source": [
    "# Check the null values in the dataset\n",
    "missing_values_count = (job\n",
    "                        .isnull()\n",
    "                        .sum()\n",
    "                        .to_frame(name='null_count')\n",
    "                        .reset_index()\n",
    "                        .query(\"null_count>0\")\n",
    "                        )\n",
    "# Calculate the missing value percentage\n",
    "percentage_missing = (missing_values_count\n",
    "                      .assign(percentage_missing=missing_values_count['null_count']/len(job) * 100)\n",
    "                      .sort_values(by='percentage_missing', ascending=False))\n",
    "\n",
    "percentage_missing"
   ]
  },
  {
   "attachments": {},
   "cell_type": "markdown",
   "metadata": {},
   "source": [
    "### Explore the each feature.\n",
    "1. Analyze the categorical variables\n",
    "2. Analyze the numerical variables"
   ]
  },
  {
   "cell_type": "code",
   "execution_count": 50,
   "metadata": {},
   "outputs": [
    {
     "data": {
      "text/plain": [
       "Index(['Job Title', 'Job Location', 'Company', 'Url', 'Company Size',\n",
       "       'Company Type', 'Company Sector', 'Company Industry', 'Company Revenue',\n",
       "       'Job Descriptions', 'Country', 'State'],\n",
       "      dtype='object')"
      ]
     },
     "execution_count": 50,
     "metadata": {},
     "output_type": "execute_result"
    }
   ],
   "source": [
    "cat_feature.columns"
   ]
  },
  {
   "cell_type": "code",
   "execution_count": 60,
   "metadata": {},
   "outputs": [
    {
     "data": {
      "application/vnd.plotly.v1+json": {
       "config": {
        "plotlyServerURL": "https://plot.ly"
       },
       "data": [
        {
         "mode": "lines",
         "name": "Average Estimated Base Salary",
         "type": "scatter",
         "x": [
          "New South Wales",
          "Northern Territory",
          "Queensland",
          "South Australia",
          "Tasmania",
          "Victoria",
          "Western Australia"
         ],
         "y": [
          110650.67994687914,
          105176.97368421052,
          99747.10643564357,
          103011.05583756346,
          108810.02040816327,
          97742.86952380952,
          107871.84738955823
         ]
        },
        {
         "mode": "lines",
         "name": "Average High Estimate",
         "type": "scatter",
         "x": [
          "New South Wales",
          "Northern Territory",
          "Queensland",
          "South Australia",
          "Tasmania",
          "Victoria",
          "Western Australia"
         ],
         "y": [
          124948.20717131475,
          118368.42105263157,
          111997.52475247525,
          118299.4923857868,
          127244.89795918367,
          109963.80952380953,
          125285.140562249
         ]
        },
        {
         "mode": "lines",
         "name": "Average Low Estimate",
         "type": "scatter",
         "x": [
          "New South Wales",
          "Northern Territory",
          "Queensland",
          "South Australia",
          "Tasmania",
          "Victoria",
          "Western Australia"
         ],
         "y": [
          98142.09827357238,
          93105.26315789473,
          89126.23762376238,
          89802.0304568528,
          93693.87755102041,
          87117.14285714286,
          93096.38554216867
         ]
        }
       ],
       "layout": {
        "template": {
         "data": {
          "bar": [
           {
            "error_x": {
             "color": "#2a3f5f"
            },
            "error_y": {
             "color": "#2a3f5f"
            },
            "marker": {
             "line": {
              "color": "#E5ECF6",
              "width": 0.5
             },
             "pattern": {
              "fillmode": "overlay",
              "size": 10,
              "solidity": 0.2
             }
            },
            "type": "bar"
           }
          ],
          "barpolar": [
           {
            "marker": {
             "line": {
              "color": "#E5ECF6",
              "width": 0.5
             },
             "pattern": {
              "fillmode": "overlay",
              "size": 10,
              "solidity": 0.2
             }
            },
            "type": "barpolar"
           }
          ],
          "carpet": [
           {
            "aaxis": {
             "endlinecolor": "#2a3f5f",
             "gridcolor": "white",
             "linecolor": "white",
             "minorgridcolor": "white",
             "startlinecolor": "#2a3f5f"
            },
            "baxis": {
             "endlinecolor": "#2a3f5f",
             "gridcolor": "white",
             "linecolor": "white",
             "minorgridcolor": "white",
             "startlinecolor": "#2a3f5f"
            },
            "type": "carpet"
           }
          ],
          "choropleth": [
           {
            "colorbar": {
             "outlinewidth": 0,
             "ticks": ""
            },
            "type": "choropleth"
           }
          ],
          "contour": [
           {
            "colorbar": {
             "outlinewidth": 0,
             "ticks": ""
            },
            "colorscale": [
             [
              0,
              "#0d0887"
             ],
             [
              0.1111111111111111,
              "#46039f"
             ],
             [
              0.2222222222222222,
              "#7201a8"
             ],
             [
              0.3333333333333333,
              "#9c179e"
             ],
             [
              0.4444444444444444,
              "#bd3786"
             ],
             [
              0.5555555555555556,
              "#d8576b"
             ],
             [
              0.6666666666666666,
              "#ed7953"
             ],
             [
              0.7777777777777778,
              "#fb9f3a"
             ],
             [
              0.8888888888888888,
              "#fdca26"
             ],
             [
              1,
              "#f0f921"
             ]
            ],
            "type": "contour"
           }
          ],
          "contourcarpet": [
           {
            "colorbar": {
             "outlinewidth": 0,
             "ticks": ""
            },
            "type": "contourcarpet"
           }
          ],
          "heatmap": [
           {
            "colorbar": {
             "outlinewidth": 0,
             "ticks": ""
            },
            "colorscale": [
             [
              0,
              "#0d0887"
             ],
             [
              0.1111111111111111,
              "#46039f"
             ],
             [
              0.2222222222222222,
              "#7201a8"
             ],
             [
              0.3333333333333333,
              "#9c179e"
             ],
             [
              0.4444444444444444,
              "#bd3786"
             ],
             [
              0.5555555555555556,
              "#d8576b"
             ],
             [
              0.6666666666666666,
              "#ed7953"
             ],
             [
              0.7777777777777778,
              "#fb9f3a"
             ],
             [
              0.8888888888888888,
              "#fdca26"
             ],
             [
              1,
              "#f0f921"
             ]
            ],
            "type": "heatmap"
           }
          ],
          "heatmapgl": [
           {
            "colorbar": {
             "outlinewidth": 0,
             "ticks": ""
            },
            "colorscale": [
             [
              0,
              "#0d0887"
             ],
             [
              0.1111111111111111,
              "#46039f"
             ],
             [
              0.2222222222222222,
              "#7201a8"
             ],
             [
              0.3333333333333333,
              "#9c179e"
             ],
             [
              0.4444444444444444,
              "#bd3786"
             ],
             [
              0.5555555555555556,
              "#d8576b"
             ],
             [
              0.6666666666666666,
              "#ed7953"
             ],
             [
              0.7777777777777778,
              "#fb9f3a"
             ],
             [
              0.8888888888888888,
              "#fdca26"
             ],
             [
              1,
              "#f0f921"
             ]
            ],
            "type": "heatmapgl"
           }
          ],
          "histogram": [
           {
            "marker": {
             "pattern": {
              "fillmode": "overlay",
              "size": 10,
              "solidity": 0.2
             }
            },
            "type": "histogram"
           }
          ],
          "histogram2d": [
           {
            "colorbar": {
             "outlinewidth": 0,
             "ticks": ""
            },
            "colorscale": [
             [
              0,
              "#0d0887"
             ],
             [
              0.1111111111111111,
              "#46039f"
             ],
             [
              0.2222222222222222,
              "#7201a8"
             ],
             [
              0.3333333333333333,
              "#9c179e"
             ],
             [
              0.4444444444444444,
              "#bd3786"
             ],
             [
              0.5555555555555556,
              "#d8576b"
             ],
             [
              0.6666666666666666,
              "#ed7953"
             ],
             [
              0.7777777777777778,
              "#fb9f3a"
             ],
             [
              0.8888888888888888,
              "#fdca26"
             ],
             [
              1,
              "#f0f921"
             ]
            ],
            "type": "histogram2d"
           }
          ],
          "histogram2dcontour": [
           {
            "colorbar": {
             "outlinewidth": 0,
             "ticks": ""
            },
            "colorscale": [
             [
              0,
              "#0d0887"
             ],
             [
              0.1111111111111111,
              "#46039f"
             ],
             [
              0.2222222222222222,
              "#7201a8"
             ],
             [
              0.3333333333333333,
              "#9c179e"
             ],
             [
              0.4444444444444444,
              "#bd3786"
             ],
             [
              0.5555555555555556,
              "#d8576b"
             ],
             [
              0.6666666666666666,
              "#ed7953"
             ],
             [
              0.7777777777777778,
              "#fb9f3a"
             ],
             [
              0.8888888888888888,
              "#fdca26"
             ],
             [
              1,
              "#f0f921"
             ]
            ],
            "type": "histogram2dcontour"
           }
          ],
          "mesh3d": [
           {
            "colorbar": {
             "outlinewidth": 0,
             "ticks": ""
            },
            "type": "mesh3d"
           }
          ],
          "parcoords": [
           {
            "line": {
             "colorbar": {
              "outlinewidth": 0,
              "ticks": ""
             }
            },
            "type": "parcoords"
           }
          ],
          "pie": [
           {
            "automargin": true,
            "type": "pie"
           }
          ],
          "scatter": [
           {
            "fillpattern": {
             "fillmode": "overlay",
             "size": 10,
             "solidity": 0.2
            },
            "type": "scatter"
           }
          ],
          "scatter3d": [
           {
            "line": {
             "colorbar": {
              "outlinewidth": 0,
              "ticks": ""
             }
            },
            "marker": {
             "colorbar": {
              "outlinewidth": 0,
              "ticks": ""
             }
            },
            "type": "scatter3d"
           }
          ],
          "scattercarpet": [
           {
            "marker": {
             "colorbar": {
              "outlinewidth": 0,
              "ticks": ""
             }
            },
            "type": "scattercarpet"
           }
          ],
          "scattergeo": [
           {
            "marker": {
             "colorbar": {
              "outlinewidth": 0,
              "ticks": ""
             }
            },
            "type": "scattergeo"
           }
          ],
          "scattergl": [
           {
            "marker": {
             "colorbar": {
              "outlinewidth": 0,
              "ticks": ""
             }
            },
            "type": "scattergl"
           }
          ],
          "scattermapbox": [
           {
            "marker": {
             "colorbar": {
              "outlinewidth": 0,
              "ticks": ""
             }
            },
            "type": "scattermapbox"
           }
          ],
          "scatterpolar": [
           {
            "marker": {
             "colorbar": {
              "outlinewidth": 0,
              "ticks": ""
             }
            },
            "type": "scatterpolar"
           }
          ],
          "scatterpolargl": [
           {
            "marker": {
             "colorbar": {
              "outlinewidth": 0,
              "ticks": ""
             }
            },
            "type": "scatterpolargl"
           }
          ],
          "scatterternary": [
           {
            "marker": {
             "colorbar": {
              "outlinewidth": 0,
              "ticks": ""
             }
            },
            "type": "scatterternary"
           }
          ],
          "surface": [
           {
            "colorbar": {
             "outlinewidth": 0,
             "ticks": ""
            },
            "colorscale": [
             [
              0,
              "#0d0887"
             ],
             [
              0.1111111111111111,
              "#46039f"
             ],
             [
              0.2222222222222222,
              "#7201a8"
             ],
             [
              0.3333333333333333,
              "#9c179e"
             ],
             [
              0.4444444444444444,
              "#bd3786"
             ],
             [
              0.5555555555555556,
              "#d8576b"
             ],
             [
              0.6666666666666666,
              "#ed7953"
             ],
             [
              0.7777777777777778,
              "#fb9f3a"
             ],
             [
              0.8888888888888888,
              "#fdca26"
             ],
             [
              1,
              "#f0f921"
             ]
            ],
            "type": "surface"
           }
          ],
          "table": [
           {
            "cells": {
             "fill": {
              "color": "#EBF0F8"
             },
             "line": {
              "color": "white"
             }
            },
            "header": {
             "fill": {
              "color": "#C8D4E3"
             },
             "line": {
              "color": "white"
             }
            },
            "type": "table"
           }
          ]
         },
         "layout": {
          "annotationdefaults": {
           "arrowcolor": "#2a3f5f",
           "arrowhead": 0,
           "arrowwidth": 1
          },
          "autotypenumbers": "strict",
          "coloraxis": {
           "colorbar": {
            "outlinewidth": 0,
            "ticks": ""
           }
          },
          "colorscale": {
           "diverging": [
            [
             0,
             "#8e0152"
            ],
            [
             0.1,
             "#c51b7d"
            ],
            [
             0.2,
             "#de77ae"
            ],
            [
             0.3,
             "#f1b6da"
            ],
            [
             0.4,
             "#fde0ef"
            ],
            [
             0.5,
             "#f7f7f7"
            ],
            [
             0.6,
             "#e6f5d0"
            ],
            [
             0.7,
             "#b8e186"
            ],
            [
             0.8,
             "#7fbc41"
            ],
            [
             0.9,
             "#4d9221"
            ],
            [
             1,
             "#276419"
            ]
           ],
           "sequential": [
            [
             0,
             "#0d0887"
            ],
            [
             0.1111111111111111,
             "#46039f"
            ],
            [
             0.2222222222222222,
             "#7201a8"
            ],
            [
             0.3333333333333333,
             "#9c179e"
            ],
            [
             0.4444444444444444,
             "#bd3786"
            ],
            [
             0.5555555555555556,
             "#d8576b"
            ],
            [
             0.6666666666666666,
             "#ed7953"
            ],
            [
             0.7777777777777778,
             "#fb9f3a"
            ],
            [
             0.8888888888888888,
             "#fdca26"
            ],
            [
             1,
             "#f0f921"
            ]
           ],
           "sequentialminus": [
            [
             0,
             "#0d0887"
            ],
            [
             0.1111111111111111,
             "#46039f"
            ],
            [
             0.2222222222222222,
             "#7201a8"
            ],
            [
             0.3333333333333333,
             "#9c179e"
            ],
            [
             0.4444444444444444,
             "#bd3786"
            ],
            [
             0.5555555555555556,
             "#d8576b"
            ],
            [
             0.6666666666666666,
             "#ed7953"
            ],
            [
             0.7777777777777778,
             "#fb9f3a"
            ],
            [
             0.8888888888888888,
             "#fdca26"
            ],
            [
             1,
             "#f0f921"
            ]
           ]
          },
          "colorway": [
           "#636efa",
           "#EF553B",
           "#00cc96",
           "#ab63fa",
           "#FFA15A",
           "#19d3f3",
           "#FF6692",
           "#B6E880",
           "#FF97FF",
           "#FECB52"
          ],
          "font": {
           "color": "#2a3f5f"
          },
          "geo": {
           "bgcolor": "white",
           "lakecolor": "white",
           "landcolor": "#E5ECF6",
           "showlakes": true,
           "showland": true,
           "subunitcolor": "white"
          },
          "hoverlabel": {
           "align": "left"
          },
          "hovermode": "closest",
          "mapbox": {
           "style": "light"
          },
          "paper_bgcolor": "white",
          "plot_bgcolor": "#E5ECF6",
          "polar": {
           "angularaxis": {
            "gridcolor": "white",
            "linecolor": "white",
            "ticks": ""
           },
           "bgcolor": "#E5ECF6",
           "radialaxis": {
            "gridcolor": "white",
            "linecolor": "white",
            "ticks": ""
           }
          },
          "scene": {
           "xaxis": {
            "backgroundcolor": "#E5ECF6",
            "gridcolor": "white",
            "gridwidth": 2,
            "linecolor": "white",
            "showbackground": true,
            "ticks": "",
            "zerolinecolor": "white"
           },
           "yaxis": {
            "backgroundcolor": "#E5ECF6",
            "gridcolor": "white",
            "gridwidth": 2,
            "linecolor": "white",
            "showbackground": true,
            "ticks": "",
            "zerolinecolor": "white"
           },
           "zaxis": {
            "backgroundcolor": "#E5ECF6",
            "gridcolor": "white",
            "gridwidth": 2,
            "linecolor": "white",
            "showbackground": true,
            "ticks": "",
            "zerolinecolor": "white"
           }
          },
          "shapedefaults": {
           "line": {
            "color": "#2a3f5f"
           }
          },
          "ternary": {
           "aaxis": {
            "gridcolor": "white",
            "linecolor": "white",
            "ticks": ""
           },
           "baxis": {
            "gridcolor": "white",
            "linecolor": "white",
            "ticks": ""
           },
           "bgcolor": "#E5ECF6",
           "caxis": {
            "gridcolor": "white",
            "linecolor": "white",
            "ticks": ""
           }
          },
          "title": {
           "x": 0.05
          },
          "xaxis": {
           "automargin": true,
           "gridcolor": "white",
           "linecolor": "white",
           "ticks": "",
           "title": {
            "standoff": 15
           },
           "zerolinecolor": "white",
           "zerolinewidth": 2
          },
          "yaxis": {
           "automargin": true,
           "gridcolor": "white",
           "linecolor": "white",
           "ticks": "",
           "title": {
            "standoff": 15
           },
           "zerolinecolor": "white",
           "zerolinewidth": 2
          }
         }
        },
        "title": {
         "text": "Salary Based on State"
        },
        "xaxis": {
         "title": {
          "text": "State"
         }
        },
        "yaxis": {
         "title": {
          "text": "Salary"
         }
        }
       }
      }
     },
     "metadata": {},
     "output_type": "display_data"
    }
   ],
   "source": [
    "# Analyze the average income by state.\n",
    "import plotly.graph_objects as go\n",
    "# Define the state names and values\n",
    "state_info = (job\n",
    "                .groupby('State')\n",
    "                .agg({'Estimate Base Salary': 'mean', 'Low Estimate': 'mean', 'High Estimate':'mean'})\n",
    "                .reset_index())\n",
    "\n",
    "# Create the line chart\n",
    "fig = go.Figure()\n",
    "fig.add_trace(go.Scatter(\n",
    "    x=state_info['State'].tolist(),  \n",
    "    y=state_info['Estimate Base Salary'].tolist(), \n",
    "    mode='lines',\n",
    "    name='Average Estimated Base Salary'\n",
    "))\n",
    "fig.add_trace(go.Scatter(\n",
    "    x=state_info['State'].tolist(),  \n",
    "    y=state_info['High Estimate'].tolist(), \n",
    "    mode='lines',\n",
    "    name='Average High Estimate'\n",
    "))\n",
    "fig.add_trace(go.Scatter(\n",
    "    x=state_info['State'].tolist(),  \n",
    "    y=state_info['Low Estimate'].tolist(), \n",
    "    mode='lines',\n",
    "    name='Average Low Estimate'\n",
    "))\n",
    "\n",
    "# Set the chart title and axis labels\n",
    "fig.update_layout(\n",
    "    title='Salary Based on State',\n",
    "    xaxis_title='State',\n",
    "    yaxis_title='Salary'\n",
    ")\n",
    "\n",
    "# Display the chart\n",
    "fig.show()"
   ]
  },
  {
   "attachments": {},
   "cell_type": "markdown",
   "metadata": {},
   "source": [
    "# Depict-\n",
    "After analyzing the complete dataset, it is evident that Victoria has the lowest average salary, while New South Wales and Western Australia have the highest average salaries."
   ]
  },
  {
   "cell_type": "code",
   "execution_count": 61,
   "metadata": {},
   "outputs": [
    {
     "data": {
      "text/html": [
       "<div>\n",
       "<style scoped>\n",
       "    .dataframe tbody tr th:only-of-type {\n",
       "        vertical-align: middle;\n",
       "    }\n",
       "\n",
       "    .dataframe tbody tr th {\n",
       "        vertical-align: top;\n",
       "    }\n",
       "\n",
       "    .dataframe thead th {\n",
       "        text-align: right;\n",
       "    }\n",
       "</style>\n",
       "<table border=\"1\" class=\"dataframe\">\n",
       "  <thead>\n",
       "    <tr style=\"text-align: right;\">\n",
       "      <th></th>\n",
       "      <th>index</th>\n",
       "      <th>Company Founded</th>\n",
       "    </tr>\n",
       "  </thead>\n",
       "  <tbody>\n",
       "    <tr>\n",
       "      <th>104</th>\n",
       "      <td>1631.0</td>\n",
       "      <td>1</td>\n",
       "    </tr>\n",
       "    <tr>\n",
       "      <th>95</th>\n",
       "      <td>1698.0</td>\n",
       "      <td>1</td>\n",
       "    </tr>\n",
       "    <tr>\n",
       "      <th>83</th>\n",
       "      <td>1775.0</td>\n",
       "      <td>1</td>\n",
       "    </tr>\n",
       "    <tr>\n",
       "      <th>59</th>\n",
       "      <td>1792.0</td>\n",
       "      <td>4</td>\n",
       "    </tr>\n",
       "    <tr>\n",
       "      <th>1</th>\n",
       "      <td>1835.0</td>\n",
       "      <td>100</td>\n",
       "    </tr>\n",
       "    <tr>\n",
       "      <th>...</th>\n",
       "      <td>...</td>\n",
       "      <td>...</td>\n",
       "    </tr>\n",
       "    <tr>\n",
       "      <th>2</th>\n",
       "      <td>2015.0</td>\n",
       "      <td>97</td>\n",
       "    </tr>\n",
       "    <tr>\n",
       "      <th>32</th>\n",
       "      <td>2017.0</td>\n",
       "      <td>12</td>\n",
       "    </tr>\n",
       "    <tr>\n",
       "      <th>58</th>\n",
       "      <td>2018.0</td>\n",
       "      <td>4</td>\n",
       "    </tr>\n",
       "    <tr>\n",
       "      <th>77</th>\n",
       "      <td>2019.0</td>\n",
       "      <td>2</td>\n",
       "    </tr>\n",
       "    <tr>\n",
       "      <th>48</th>\n",
       "      <td>2020.0</td>\n",
       "      <td>6</td>\n",
       "    </tr>\n",
       "  </tbody>\n",
       "</table>\n",
       "<p>114 rows × 2 columns</p>\n",
       "</div>"
      ],
      "text/plain": [
       "      index  Company Founded\n",
       "104  1631.0                1\n",
       "95   1698.0                1\n",
       "83   1775.0                1\n",
       "59   1792.0                4\n",
       "1    1835.0              100\n",
       "..      ...              ...\n",
       "2    2015.0               97\n",
       "32   2017.0               12\n",
       "58   2018.0                4\n",
       "77   2019.0                2\n",
       "48   2020.0                6\n",
       "\n",
       "[114 rows x 2 columns]"
      ]
     },
     "execution_count": 61,
     "metadata": {},
     "output_type": "execute_result"
    }
   ],
   "source": [
    "# Check the year variable\n",
    "(job\n",
    " .loc[:,'Company Founded']\n",
    " .value_counts()\n",
    " .reset_index()\n",
    " .sort_values(by='index'))\n"
   ]
  },
  {
   "attachments": {},
   "cell_type": "markdown",
   "metadata": {},
   "source": [
    "It appears that the data is significantly outdated, with the majority of instances belonging to the 19th century."
   ]
  },
  {
   "cell_type": "code",
   "execution_count": 67,
   "metadata": {},
   "outputs": [
    {
     "data": {
      "application/vnd.plotly.v1+json": {
       "config": {
        "plotlyServerURL": "https://plot.ly"
       },
       "data": [
        {
         "hovertemplate": "State=Victoria<br>Company Founded=%{x}<br>Estimate Base Salary=%{y}<extra></extra>",
         "legendgroup": "Victoria",
         "line": {
          "color": "#636efa",
          "dash": "solid"
         },
         "marker": {
          "symbol": "circle"
         },
         "mode": "lines",
         "name": "Victoria",
         "orientation": "v",
         "showlegend": true,
         "type": "scatter",
         "x": [
          1901,
          1908,
          1914,
          1924,
          1926,
          1935,
          1945,
          1949,
          1958,
          1964,
          1967,
          1968,
          1974,
          1980,
          1981,
          1989,
          1992,
          1993,
          1995,
          1997,
          1999,
          2001,
          2003,
          2004,
          2005,
          2006,
          2008,
          2011,
          2013,
          2014,
          2015,
          2017
         ],
         "xaxis": "x",
         "y": [
          116663,
          108772,
          118481,
          69825,
          89465,
          114935,
          89443,
          89800,
          137392,
          97847,
          66000,
          105000,
          68356,
          112943,
          67439,
          83812,
          67053,
          119294,
          97980,
          98564,
          83138,
          99916,
          84323,
          183000,
          81289,
          114738,
          142178,
          104554,
          114837,
          104757,
          109138,
          98850
         ],
         "yaxis": "y"
        },
        {
         "hovertemplate": "State=Queensland<br>Company Founded=%{x}<br>Estimate Base Salary=%{y}<extra></extra>",
         "legendgroup": "Queensland",
         "line": {
          "color": "#EF553B",
          "dash": "solid"
         },
         "marker": {
          "symbol": "circle"
         },
         "mode": "lines",
         "name": "Queensland",
         "orientation": "v",
         "showlegend": true,
         "type": "scatter",
         "x": [
          1903,
          1917,
          1926,
          1928,
          1955,
          1956,
          1964,
          1965,
          1967,
          1970,
          1971,
          1975,
          1979,
          1982,
          1983,
          1989,
          1993,
          1994,
          1997,
          2000,
          2003,
          2004,
          2007,
          2009,
          2010,
          2018
         ],
         "xaxis": "x",
         "y": [
          86429,
          154417,
          91181,
          108936,
          87936,
          84905,
          105000,
          131661,
          66000,
          91107,
          63592,
          157901,
          97589,
          115000,
          64607.5,
          107751,
          80932,
          63108,
          85146,
          69969,
          120592,
          295000,
          54690,
          128589,
          155000,
          82779
         ],
         "yaxis": "y"
        },
        {
         "hovertemplate": "State=Tasmania<br>Company Founded=%{x}<br>Estimate Base Salary=%{y}<extra></extra>",
         "legendgroup": "Tasmania",
         "line": {
          "color": "#00cc96",
          "dash": "solid"
         },
         "marker": {
          "symbol": "circle"
         },
         "mode": "lines",
         "name": "Tasmania",
         "orientation": "v",
         "showlegend": true,
         "type": "scatter",
         "x": [
          1909,
          1926,
          1928,
          1947,
          1957,
          1967,
          1975,
          1987,
          2003,
          2004
         ],
         "xaxis": "x",
         "y": [
          149000,
          117273.5,
          72111,
          90780,
          55561,
          66000,
          101242,
          95331,
          92520,
          170000
         ],
         "yaxis": "y"
        },
        {
         "hovertemplate": "State=New South Wales<br>Company Founded=%{x}<br>Estimate Base Salary=%{y}<extra></extra>",
         "legendgroup": "New South Wales",
         "line": {
          "color": "#ab63fa",
          "dash": "solid"
         },
         "marker": {
          "symbol": "circle"
         },
         "mode": "lines",
         "name": "New South Wales",
         "orientation": "v",
         "showlegend": true,
         "type": "scatter",
         "x": [
          1911,
          1924,
          1926,
          1933,
          1938,
          1945,
          1947,
          1964,
          1965,
          1971,
          1977,
          1981,
          1984,
          1989,
          1992,
          1995,
          1998,
          2001,
          2004,
          2005,
          2006,
          2007,
          2008,
          2009,
          2010,
          2015
         ],
         "xaxis": "x",
         "y": [
          102762,
          97417,
          90951,
          156205,
          120181,
          103327,
          102470,
          105365,
          86983,
          88171,
          67528,
          72675,
          116841,
          107108,
          122267.5,
          142845,
          94107,
          170000,
          183000,
          107238,
          115000,
          134360,
          102470,
          68000,
          149287,
          50400
         ],
         "yaxis": "y"
        },
        {
         "hovertemplate": "State=South Australia<br>Company Founded=%{x}<br>Estimate Base Salary=%{y}<extra></extra>",
         "legendgroup": "South Australia",
         "line": {
          "color": "#FFA15A",
          "dash": "solid"
         },
         "marker": {
          "symbol": "circle"
         },
         "mode": "lines",
         "name": "South Australia",
         "orientation": "v",
         "showlegend": true,
         "type": "scatter",
         "x": [
          1911,
          1914,
          1915,
          1926,
          1967,
          1973,
          1989,
          1990,
          1991,
          1994,
          1995,
          1998,
          1999,
          2000,
          2001,
          2003,
          2004,
          2005,
          2010,
          2017
         ],
         "xaxis": "x",
         "y": [
          79290,
          57841,
          82049,
          128047,
          92057,
          83828,
          87567.5,
          105148,
          87516,
          138636,
          101790,
          65630,
          79704.5,
          139932,
          78860.5,
          123572.5,
          212000,
          165476,
          75000,
          73780
         ],
         "yaxis": "y"
        },
        {
         "hovertemplate": "State=Western Australia<br>Company Founded=%{x}<br>Estimate Base Salary=%{y}<extra></extra>",
         "legendgroup": "Western Australia",
         "line": {
          "color": "#19d3f3",
          "dash": "solid"
         },
         "marker": {
          "symbol": "circle"
         },
         "mode": "lines",
         "name": "Western Australia",
         "orientation": "v",
         "showlegend": true,
         "type": "scatter",
         "x": [
          1911,
          1914,
          1926,
          1928,
          1933,
          1945,
          1962,
          1971,
          1985,
          1989,
          1990,
          1992,
          2001,
          2004,
          2005,
          2010,
          2019,
          2020
         ],
         "xaxis": "x",
         "y": [
          137783,
          85775,
          93500,
          97279,
          75132,
          147860,
          120494,
          87078,
          141135,
          152391,
          74023,
          126086,
          112008,
          295000,
          135000,
          64419,
          78877,
          139845
         ],
         "yaxis": "y"
        },
        {
         "hovertemplate": "State=Northern Territory<br>Company Founded=%{x}<br>Estimate Base Salary=%{y}<extra></extra>",
         "legendgroup": "Northern Territory",
         "line": {
          "color": "#FF6692",
          "dash": "solid"
         },
         "marker": {
          "symbol": "circle"
         },
         "mode": "lines",
         "name": "Northern Territory",
         "orientation": "v",
         "showlegend": true,
         "type": "scatter",
         "x": [
          1939,
          1969,
          1970,
          2001,
          2004,
          2009
         ],
         "xaxis": "x",
         "y": [
          115000,
          70000,
          80944,
          84025,
          212000,
          136900
         ],
         "yaxis": "y"
        }
       ],
       "layout": {
        "legend": {
         "title": {
          "text": "State"
         },
         "tracegroupgap": 0
        },
        "template": {
         "data": {
          "bar": [
           {
            "error_x": {
             "color": "#2a3f5f"
            },
            "error_y": {
             "color": "#2a3f5f"
            },
            "marker": {
             "line": {
              "color": "#E5ECF6",
              "width": 0.5
             },
             "pattern": {
              "fillmode": "overlay",
              "size": 10,
              "solidity": 0.2
             }
            },
            "type": "bar"
           }
          ],
          "barpolar": [
           {
            "marker": {
             "line": {
              "color": "#E5ECF6",
              "width": 0.5
             },
             "pattern": {
              "fillmode": "overlay",
              "size": 10,
              "solidity": 0.2
             }
            },
            "type": "barpolar"
           }
          ],
          "carpet": [
           {
            "aaxis": {
             "endlinecolor": "#2a3f5f",
             "gridcolor": "white",
             "linecolor": "white",
             "minorgridcolor": "white",
             "startlinecolor": "#2a3f5f"
            },
            "baxis": {
             "endlinecolor": "#2a3f5f",
             "gridcolor": "white",
             "linecolor": "white",
             "minorgridcolor": "white",
             "startlinecolor": "#2a3f5f"
            },
            "type": "carpet"
           }
          ],
          "choropleth": [
           {
            "colorbar": {
             "outlinewidth": 0,
             "ticks": ""
            },
            "type": "choropleth"
           }
          ],
          "contour": [
           {
            "colorbar": {
             "outlinewidth": 0,
             "ticks": ""
            },
            "colorscale": [
             [
              0,
              "#0d0887"
             ],
             [
              0.1111111111111111,
              "#46039f"
             ],
             [
              0.2222222222222222,
              "#7201a8"
             ],
             [
              0.3333333333333333,
              "#9c179e"
             ],
             [
              0.4444444444444444,
              "#bd3786"
             ],
             [
              0.5555555555555556,
              "#d8576b"
             ],
             [
              0.6666666666666666,
              "#ed7953"
             ],
             [
              0.7777777777777778,
              "#fb9f3a"
             ],
             [
              0.8888888888888888,
              "#fdca26"
             ],
             [
              1,
              "#f0f921"
             ]
            ],
            "type": "contour"
           }
          ],
          "contourcarpet": [
           {
            "colorbar": {
             "outlinewidth": 0,
             "ticks": ""
            },
            "type": "contourcarpet"
           }
          ],
          "heatmap": [
           {
            "colorbar": {
             "outlinewidth": 0,
             "ticks": ""
            },
            "colorscale": [
             [
              0,
              "#0d0887"
             ],
             [
              0.1111111111111111,
              "#46039f"
             ],
             [
              0.2222222222222222,
              "#7201a8"
             ],
             [
              0.3333333333333333,
              "#9c179e"
             ],
             [
              0.4444444444444444,
              "#bd3786"
             ],
             [
              0.5555555555555556,
              "#d8576b"
             ],
             [
              0.6666666666666666,
              "#ed7953"
             ],
             [
              0.7777777777777778,
              "#fb9f3a"
             ],
             [
              0.8888888888888888,
              "#fdca26"
             ],
             [
              1,
              "#f0f921"
             ]
            ],
            "type": "heatmap"
           }
          ],
          "heatmapgl": [
           {
            "colorbar": {
             "outlinewidth": 0,
             "ticks": ""
            },
            "colorscale": [
             [
              0,
              "#0d0887"
             ],
             [
              0.1111111111111111,
              "#46039f"
             ],
             [
              0.2222222222222222,
              "#7201a8"
             ],
             [
              0.3333333333333333,
              "#9c179e"
             ],
             [
              0.4444444444444444,
              "#bd3786"
             ],
             [
              0.5555555555555556,
              "#d8576b"
             ],
             [
              0.6666666666666666,
              "#ed7953"
             ],
             [
              0.7777777777777778,
              "#fb9f3a"
             ],
             [
              0.8888888888888888,
              "#fdca26"
             ],
             [
              1,
              "#f0f921"
             ]
            ],
            "type": "heatmapgl"
           }
          ],
          "histogram": [
           {
            "marker": {
             "pattern": {
              "fillmode": "overlay",
              "size": 10,
              "solidity": 0.2
             }
            },
            "type": "histogram"
           }
          ],
          "histogram2d": [
           {
            "colorbar": {
             "outlinewidth": 0,
             "ticks": ""
            },
            "colorscale": [
             [
              0,
              "#0d0887"
             ],
             [
              0.1111111111111111,
              "#46039f"
             ],
             [
              0.2222222222222222,
              "#7201a8"
             ],
             [
              0.3333333333333333,
              "#9c179e"
             ],
             [
              0.4444444444444444,
              "#bd3786"
             ],
             [
              0.5555555555555556,
              "#d8576b"
             ],
             [
              0.6666666666666666,
              "#ed7953"
             ],
             [
              0.7777777777777778,
              "#fb9f3a"
             ],
             [
              0.8888888888888888,
              "#fdca26"
             ],
             [
              1,
              "#f0f921"
             ]
            ],
            "type": "histogram2d"
           }
          ],
          "histogram2dcontour": [
           {
            "colorbar": {
             "outlinewidth": 0,
             "ticks": ""
            },
            "colorscale": [
             [
              0,
              "#0d0887"
             ],
             [
              0.1111111111111111,
              "#46039f"
             ],
             [
              0.2222222222222222,
              "#7201a8"
             ],
             [
              0.3333333333333333,
              "#9c179e"
             ],
             [
              0.4444444444444444,
              "#bd3786"
             ],
             [
              0.5555555555555556,
              "#d8576b"
             ],
             [
              0.6666666666666666,
              "#ed7953"
             ],
             [
              0.7777777777777778,
              "#fb9f3a"
             ],
             [
              0.8888888888888888,
              "#fdca26"
             ],
             [
              1,
              "#f0f921"
             ]
            ],
            "type": "histogram2dcontour"
           }
          ],
          "mesh3d": [
           {
            "colorbar": {
             "outlinewidth": 0,
             "ticks": ""
            },
            "type": "mesh3d"
           }
          ],
          "parcoords": [
           {
            "line": {
             "colorbar": {
              "outlinewidth": 0,
              "ticks": ""
             }
            },
            "type": "parcoords"
           }
          ],
          "pie": [
           {
            "automargin": true,
            "type": "pie"
           }
          ],
          "scatter": [
           {
            "fillpattern": {
             "fillmode": "overlay",
             "size": 10,
             "solidity": 0.2
            },
            "type": "scatter"
           }
          ],
          "scatter3d": [
           {
            "line": {
             "colorbar": {
              "outlinewidth": 0,
              "ticks": ""
             }
            },
            "marker": {
             "colorbar": {
              "outlinewidth": 0,
              "ticks": ""
             }
            },
            "type": "scatter3d"
           }
          ],
          "scattercarpet": [
           {
            "marker": {
             "colorbar": {
              "outlinewidth": 0,
              "ticks": ""
             }
            },
            "type": "scattercarpet"
           }
          ],
          "scattergeo": [
           {
            "marker": {
             "colorbar": {
              "outlinewidth": 0,
              "ticks": ""
             }
            },
            "type": "scattergeo"
           }
          ],
          "scattergl": [
           {
            "marker": {
             "colorbar": {
              "outlinewidth": 0,
              "ticks": ""
             }
            },
            "type": "scattergl"
           }
          ],
          "scattermapbox": [
           {
            "marker": {
             "colorbar": {
              "outlinewidth": 0,
              "ticks": ""
             }
            },
            "type": "scattermapbox"
           }
          ],
          "scatterpolar": [
           {
            "marker": {
             "colorbar": {
              "outlinewidth": 0,
              "ticks": ""
             }
            },
            "type": "scatterpolar"
           }
          ],
          "scatterpolargl": [
           {
            "marker": {
             "colorbar": {
              "outlinewidth": 0,
              "ticks": ""
             }
            },
            "type": "scatterpolargl"
           }
          ],
          "scatterternary": [
           {
            "marker": {
             "colorbar": {
              "outlinewidth": 0,
              "ticks": ""
             }
            },
            "type": "scatterternary"
           }
          ],
          "surface": [
           {
            "colorbar": {
             "outlinewidth": 0,
             "ticks": ""
            },
            "colorscale": [
             [
              0,
              "#0d0887"
             ],
             [
              0.1111111111111111,
              "#46039f"
             ],
             [
              0.2222222222222222,
              "#7201a8"
             ],
             [
              0.3333333333333333,
              "#9c179e"
             ],
             [
              0.4444444444444444,
              "#bd3786"
             ],
             [
              0.5555555555555556,
              "#d8576b"
             ],
             [
              0.6666666666666666,
              "#ed7953"
             ],
             [
              0.7777777777777778,
              "#fb9f3a"
             ],
             [
              0.8888888888888888,
              "#fdca26"
             ],
             [
              1,
              "#f0f921"
             ]
            ],
            "type": "surface"
           }
          ],
          "table": [
           {
            "cells": {
             "fill": {
              "color": "#EBF0F8"
             },
             "line": {
              "color": "white"
             }
            },
            "header": {
             "fill": {
              "color": "#C8D4E3"
             },
             "line": {
              "color": "white"
             }
            },
            "type": "table"
           }
          ]
         },
         "layout": {
          "annotationdefaults": {
           "arrowcolor": "#2a3f5f",
           "arrowhead": 0,
           "arrowwidth": 1
          },
          "autotypenumbers": "strict",
          "coloraxis": {
           "colorbar": {
            "outlinewidth": 0,
            "ticks": ""
           }
          },
          "colorscale": {
           "diverging": [
            [
             0,
             "#8e0152"
            ],
            [
             0.1,
             "#c51b7d"
            ],
            [
             0.2,
             "#de77ae"
            ],
            [
             0.3,
             "#f1b6da"
            ],
            [
             0.4,
             "#fde0ef"
            ],
            [
             0.5,
             "#f7f7f7"
            ],
            [
             0.6,
             "#e6f5d0"
            ],
            [
             0.7,
             "#b8e186"
            ],
            [
             0.8,
             "#7fbc41"
            ],
            [
             0.9,
             "#4d9221"
            ],
            [
             1,
             "#276419"
            ]
           ],
           "sequential": [
            [
             0,
             "#0d0887"
            ],
            [
             0.1111111111111111,
             "#46039f"
            ],
            [
             0.2222222222222222,
             "#7201a8"
            ],
            [
             0.3333333333333333,
             "#9c179e"
            ],
            [
             0.4444444444444444,
             "#bd3786"
            ],
            [
             0.5555555555555556,
             "#d8576b"
            ],
            [
             0.6666666666666666,
             "#ed7953"
            ],
            [
             0.7777777777777778,
             "#fb9f3a"
            ],
            [
             0.8888888888888888,
             "#fdca26"
            ],
            [
             1,
             "#f0f921"
            ]
           ],
           "sequentialminus": [
            [
             0,
             "#0d0887"
            ],
            [
             0.1111111111111111,
             "#46039f"
            ],
            [
             0.2222222222222222,
             "#7201a8"
            ],
            [
             0.3333333333333333,
             "#9c179e"
            ],
            [
             0.4444444444444444,
             "#bd3786"
            ],
            [
             0.5555555555555556,
             "#d8576b"
            ],
            [
             0.6666666666666666,
             "#ed7953"
            ],
            [
             0.7777777777777778,
             "#fb9f3a"
            ],
            [
             0.8888888888888888,
             "#fdca26"
            ],
            [
             1,
             "#f0f921"
            ]
           ]
          },
          "colorway": [
           "#636efa",
           "#EF553B",
           "#00cc96",
           "#ab63fa",
           "#FFA15A",
           "#19d3f3",
           "#FF6692",
           "#B6E880",
           "#FF97FF",
           "#FECB52"
          ],
          "font": {
           "color": "#2a3f5f"
          },
          "geo": {
           "bgcolor": "white",
           "lakecolor": "white",
           "landcolor": "#E5ECF6",
           "showlakes": true,
           "showland": true,
           "subunitcolor": "white"
          },
          "hoverlabel": {
           "align": "left"
          },
          "hovermode": "closest",
          "mapbox": {
           "style": "light"
          },
          "paper_bgcolor": "white",
          "plot_bgcolor": "#E5ECF6",
          "polar": {
           "angularaxis": {
            "gridcolor": "white",
            "linecolor": "white",
            "ticks": ""
           },
           "bgcolor": "#E5ECF6",
           "radialaxis": {
            "gridcolor": "white",
            "linecolor": "white",
            "ticks": ""
           }
          },
          "scene": {
           "xaxis": {
            "backgroundcolor": "#E5ECF6",
            "gridcolor": "white",
            "gridwidth": 2,
            "linecolor": "white",
            "showbackground": true,
            "ticks": "",
            "zerolinecolor": "white"
           },
           "yaxis": {
            "backgroundcolor": "#E5ECF6",
            "gridcolor": "white",
            "gridwidth": 2,
            "linecolor": "white",
            "showbackground": true,
            "ticks": "",
            "zerolinecolor": "white"
           },
           "zaxis": {
            "backgroundcolor": "#E5ECF6",
            "gridcolor": "white",
            "gridwidth": 2,
            "linecolor": "white",
            "showbackground": true,
            "ticks": "",
            "zerolinecolor": "white"
           }
          },
          "shapedefaults": {
           "line": {
            "color": "#2a3f5f"
           }
          },
          "ternary": {
           "aaxis": {
            "gridcolor": "white",
            "linecolor": "white",
            "ticks": ""
           },
           "baxis": {
            "gridcolor": "white",
            "linecolor": "white",
            "ticks": ""
           },
           "bgcolor": "#E5ECF6",
           "caxis": {
            "gridcolor": "white",
            "linecolor": "white",
            "ticks": ""
           }
          },
          "title": {
           "x": 0.05
          },
          "xaxis": {
           "automargin": true,
           "gridcolor": "white",
           "linecolor": "white",
           "ticks": "",
           "title": {
            "standoff": 15
           },
           "zerolinecolor": "white",
           "zerolinewidth": 2
          },
          "yaxis": {
           "automargin": true,
           "gridcolor": "white",
           "linecolor": "white",
           "ticks": "",
           "title": {
            "standoff": 15
           },
           "zerolinecolor": "white",
           "zerolinewidth": 2
          }
         }
        },
        "title": {
         "text": "Salary by Year and State"
        },
        "xaxis": {
         "anchor": "y",
         "domain": [
          0,
          1
         ],
         "title": {
          "text": "Company Founded"
         }
        },
        "yaxis": {
         "anchor": "x",
         "domain": [
          0,
          1
         ],
         "title": {
          "text": "Estimate Base Salary"
         }
        }
       }
      }
     },
     "metadata": {},
     "output_type": "display_data"
    }
   ],
   "source": [
    "df = (job\n",
    " .dropna()\n",
    " .query(\"`Company Founded`>1900\")\n",
    " .groupby(['Company Founded', 'State'])\n",
    " .agg({'Estimate Base Salary': 'median', 'Low Estimate': 'mean', 'High Estimate':'mean'})\n",
    " .reset_index())\n",
    "\n",
    "import plotly.express as px\n",
    "\n",
    "# Assuming you have a DataFrame called 'df' with columns 'Year', 'Salary', and 'State'\n",
    "\n",
    "# Create the line chart using Plotly Express\n",
    "fig = px.line(df, x='Company Founded', y='Estimate Base Salary', color='State', title='Salary by Year and State')\n",
    "\n",
    "# Display the line chart\n",
    "fig.show()"
   ]
  },
  {
   "cell_type": "code",
   "execution_count": 71,
   "metadata": {},
   "outputs": [
    {
     "data": {
      "text/html": [
       "<div>\n",
       "<style scoped>\n",
       "    .dataframe tbody tr th:only-of-type {\n",
       "        vertical-align: middle;\n",
       "    }\n",
       "\n",
       "    .dataframe tbody tr th {\n",
       "        vertical-align: top;\n",
       "    }\n",
       "\n",
       "    .dataframe thead th {\n",
       "        text-align: right;\n",
       "    }\n",
       "</style>\n",
       "<table border=\"1\" class=\"dataframe\">\n",
       "  <thead>\n",
       "    <tr style=\"text-align: right;\">\n",
       "      <th></th>\n",
       "      <th>index</th>\n",
       "      <th>Job Title</th>\n",
       "    </tr>\n",
       "  </thead>\n",
       "  <tbody>\n",
       "    <tr>\n",
       "      <th>0</th>\n",
       "      <td>Data Scientist</td>\n",
       "      <td>449</td>\n",
       "    </tr>\n",
       "    <tr>\n",
       "      <th>1</th>\n",
       "      <td>Data Analyst</td>\n",
       "      <td>215</td>\n",
       "    </tr>\n",
       "    <tr>\n",
       "      <th>2</th>\n",
       "      <td>Data Engineer</td>\n",
       "      <td>120</td>\n",
       "    </tr>\n",
       "    <tr>\n",
       "      <th>3</th>\n",
       "      <td>Software Engineer</td>\n",
       "      <td>89</td>\n",
       "    </tr>\n",
       "    <tr>\n",
       "      <th>4</th>\n",
       "      <td>Machine Learning Engineer</td>\n",
       "      <td>78</td>\n",
       "    </tr>\n",
       "    <tr>\n",
       "      <th>5</th>\n",
       "      <td>Data Specialist</td>\n",
       "      <td>58</td>\n",
       "    </tr>\n",
       "    <tr>\n",
       "      <th>6</th>\n",
       "      <td>Clinical Research Associate</td>\n",
       "      <td>46</td>\n",
       "    </tr>\n",
       "    <tr>\n",
       "      <th>7</th>\n",
       "      <td>Research Assistant</td>\n",
       "      <td>43</td>\n",
       "    </tr>\n",
       "    <tr>\n",
       "      <th>8</th>\n",
       "      <td>Clinical Research Assistant</td>\n",
       "      <td>43</td>\n",
       "    </tr>\n",
       "    <tr>\n",
       "      <th>9</th>\n",
       "      <td>Engineer</td>\n",
       "      <td>41</td>\n",
       "    </tr>\n",
       "    <tr>\n",
       "      <th>10</th>\n",
       "      <td>IT Support Analyst</td>\n",
       "      <td>41</td>\n",
       "    </tr>\n",
       "    <tr>\n",
       "      <th>11</th>\n",
       "      <td>Graduate Research Fellow</td>\n",
       "      <td>41</td>\n",
       "    </tr>\n",
       "    <tr>\n",
       "      <th>12</th>\n",
       "      <td>Associate Research Assistant</td>\n",
       "      <td>37</td>\n",
       "    </tr>\n",
       "    <tr>\n",
       "      <th>13</th>\n",
       "      <td>Electronics Engineer</td>\n",
       "      <td>36</td>\n",
       "    </tr>\n",
       "    <tr>\n",
       "      <th>14</th>\n",
       "      <td>Graduate Data Scientist</td>\n",
       "      <td>36</td>\n",
       "    </tr>\n",
       "    <tr>\n",
       "      <th>15</th>\n",
       "      <td>Business Analyst</td>\n",
       "      <td>35</td>\n",
       "    </tr>\n",
       "    <tr>\n",
       "      <th>16</th>\n",
       "      <td>Navy Careers (No Experience Required)</td>\n",
       "      <td>33</td>\n",
       "    </tr>\n",
       "    <tr>\n",
       "      <th>17</th>\n",
       "      <td>Consultant</td>\n",
       "      <td>28</td>\n",
       "    </tr>\n",
       "    <tr>\n",
       "      <th>18</th>\n",
       "      <td>Translator</td>\n",
       "      <td>27</td>\n",
       "    </tr>\n",
       "    <tr>\n",
       "      <th>19</th>\n",
       "      <td>QC Analyst</td>\n",
       "      <td>26</td>\n",
       "    </tr>\n",
       "    <tr>\n",
       "      <th>20</th>\n",
       "      <td>Researcher</td>\n",
       "      <td>26</td>\n",
       "    </tr>\n",
       "    <tr>\n",
       "      <th>21</th>\n",
       "      <td>Business Development Manager</td>\n",
       "      <td>26</td>\n",
       "    </tr>\n",
       "    <tr>\n",
       "      <th>22</th>\n",
       "      <td>Reporting Analyst</td>\n",
       "      <td>25</td>\n",
       "    </tr>\n",
       "    <tr>\n",
       "      <th>23</th>\n",
       "      <td>Senior Channel Manager</td>\n",
       "      <td>25</td>\n",
       "    </tr>\n",
       "    <tr>\n",
       "      <th>24</th>\n",
       "      <td>Compliance Officer</td>\n",
       "      <td>25</td>\n",
       "    </tr>\n",
       "    <tr>\n",
       "      <th>25</th>\n",
       "      <td>Geologist</td>\n",
       "      <td>24</td>\n",
       "    </tr>\n",
       "    <tr>\n",
       "      <th>26</th>\n",
       "      <td>Technical Assistant</td>\n",
       "      <td>24</td>\n",
       "    </tr>\n",
       "    <tr>\n",
       "      <th>27</th>\n",
       "      <td>Senior Front End Engineer</td>\n",
       "      <td>23</td>\n",
       "    </tr>\n",
       "    <tr>\n",
       "      <th>28</th>\n",
       "      <td>Analyst</td>\n",
       "      <td>23</td>\n",
       "    </tr>\n",
       "    <tr>\n",
       "      <th>29</th>\n",
       "      <td>Food Technologist</td>\n",
       "      <td>23</td>\n",
       "    </tr>\n",
       "    <tr>\n",
       "      <th>30</th>\n",
       "      <td>Customer Relations Manager</td>\n",
       "      <td>21</td>\n",
       "    </tr>\n",
       "  </tbody>\n",
       "</table>\n",
       "</div>"
      ],
      "text/plain": [
       "                                    index  Job Title\n",
       "0                          Data Scientist        449\n",
       "1                            Data Analyst        215\n",
       "2                           Data Engineer        120\n",
       "3                       Software Engineer         89\n",
       "4               Machine Learning Engineer         78\n",
       "5                         Data Specialist         58\n",
       "6             Clinical Research Associate         46\n",
       "7                      Research Assistant         43\n",
       "8             Clinical Research Assistant         43\n",
       "9                                Engineer         41\n",
       "10                     IT Support Analyst         41\n",
       "11               Graduate Research Fellow         41\n",
       "12           Associate Research Assistant         37\n",
       "13                   Electronics Engineer         36\n",
       "14                Graduate Data Scientist         36\n",
       "15                       Business Analyst         35\n",
       "16  Navy Careers (No Experience Required)         33\n",
       "17                             Consultant         28\n",
       "18                             Translator         27\n",
       "19                             QC Analyst         26\n",
       "20                             Researcher         26\n",
       "21           Business Development Manager         26\n",
       "22                      Reporting Analyst         25\n",
       "23                 Senior Channel Manager         25\n",
       "24                     Compliance Officer         25\n",
       "25                              Geologist         24\n",
       "26                    Technical Assistant         24\n",
       "27              Senior Front End Engineer         23\n",
       "28                                Analyst         23\n",
       "29                      Food Technologist         23\n",
       "30             Customer Relations Manager         21"
      ]
     },
     "execution_count": 71,
     "metadata": {},
     "output_type": "execute_result"
    }
   ],
   "source": [
    "(job\n",
    " .loc[:,'Job Title']\n",
    " .value_counts()\n",
    " .reset_index()\n",
    " .query(\"`Job Title`>20\"))"
   ]
  },
  {
   "cell_type": "code",
   "execution_count": 84,
   "metadata": {},
   "outputs": [
    {
     "data": {
      "application/vnd.plotly.v1+json": {
       "config": {
        "plotlyServerURL": "https://plot.ly"
       },
       "data": [
        {
         "name": "Average Low Estimate",
         "type": "bar",
         "x": [
          "Clinical Research Associate",
          "IT Support Analyst",
          "Engineer",
          "Business Analyst",
          "Translator",
          "Graduate Research Fellow",
          "Electronics Engineer",
          "Research Assistant",
          "Business Development Manager",
          "Associate Research Assistant",
          "Data Analyst",
          "Data Specialist",
          "Machine Learning Engineer",
          "QC Analyst",
          "Data Engineer",
          "Consultant",
          "Graduate Data Scientist",
          "Data Scientist",
          "Software Engineer"
         ],
         "y": [
          61461.53846153846,
          68000,
          74000,
          72727.27272727272,
          78615.38461538461,
          87365.85365853658,
          92000,
          86928.57142857143,
          83000,
          94689.6551724138,
          79344.8275862069,
          89800,
          96047.61904761905,
          92615.38461538461,
          98023.80952380953,
          93000,
          102166.66666666667,
          123325,
          144411.76470588235
         ]
        },
        {
         "name": "Average Estimate Base Salary",
         "type": "bar",
         "x": [
          "Clinical Research Associate",
          "IT Support Analyst",
          "Engineer",
          "Business Analyst",
          "Translator",
          "Graduate Research Fellow",
          "Electronics Engineer",
          "Research Assistant",
          "Business Development Manager",
          "Associate Research Assistant",
          "Data Analyst",
          "Data Specialist",
          "Machine Learning Engineer",
          "QC Analyst",
          "Data Engineer",
          "Consultant",
          "Graduate Data Scientist",
          "Data Scientist",
          "Software Engineer"
         ],
         "y": [
          67053,
          68000,
          68000,
          83427,
          84514,
          89862,
          92076,
          99348,
          99800,
          102500,
          102762,
          105000,
          107108,
          109138,
          109202,
          111215,
          116841,
          122107,
          183000
         ]
        },
        {
         "name": "Average High Estimate",
         "type": "bar",
         "x": [
          "Clinical Research Associate",
          "IT Support Analyst",
          "Engineer",
          "Business Analyst",
          "Translator",
          "Graduate Research Fellow",
          "Electronics Engineer",
          "Research Assistant",
          "Business Development Manager",
          "Associate Research Assistant",
          "Data Analyst",
          "Data Specialist",
          "Machine Learning Engineer",
          "QC Analyst",
          "Data Engineer",
          "Consultant",
          "Graduate Data Scientist",
          "Data Scientist",
          "Software Engineer"
         ],
         "y": [
          80230.76923076923,
          68000,
          79200,
          117272.72727272728,
          87461.53846153847,
          92926.82926829268,
          92000,
          96285.71428571429,
          120000,
          106034.4827586207,
          106094.8275862069,
          128800,
          125428.57142857143,
          123576.92307692308,
          131476.19047619047,
          133500,
          141194.44444444444,
          150841.66666666666,
          201627.45098039217
         ]
        }
       ],
       "layout": {
        "template": {
         "data": {
          "bar": [
           {
            "error_x": {
             "color": "#2a3f5f"
            },
            "error_y": {
             "color": "#2a3f5f"
            },
            "marker": {
             "line": {
              "color": "#E5ECF6",
              "width": 0.5
             },
             "pattern": {
              "fillmode": "overlay",
              "size": 10,
              "solidity": 0.2
             }
            },
            "type": "bar"
           }
          ],
          "barpolar": [
           {
            "marker": {
             "line": {
              "color": "#E5ECF6",
              "width": 0.5
             },
             "pattern": {
              "fillmode": "overlay",
              "size": 10,
              "solidity": 0.2
             }
            },
            "type": "barpolar"
           }
          ],
          "carpet": [
           {
            "aaxis": {
             "endlinecolor": "#2a3f5f",
             "gridcolor": "white",
             "linecolor": "white",
             "minorgridcolor": "white",
             "startlinecolor": "#2a3f5f"
            },
            "baxis": {
             "endlinecolor": "#2a3f5f",
             "gridcolor": "white",
             "linecolor": "white",
             "minorgridcolor": "white",
             "startlinecolor": "#2a3f5f"
            },
            "type": "carpet"
           }
          ],
          "choropleth": [
           {
            "colorbar": {
             "outlinewidth": 0,
             "ticks": ""
            },
            "type": "choropleth"
           }
          ],
          "contour": [
           {
            "colorbar": {
             "outlinewidth": 0,
             "ticks": ""
            },
            "colorscale": [
             [
              0,
              "#0d0887"
             ],
             [
              0.1111111111111111,
              "#46039f"
             ],
             [
              0.2222222222222222,
              "#7201a8"
             ],
             [
              0.3333333333333333,
              "#9c179e"
             ],
             [
              0.4444444444444444,
              "#bd3786"
             ],
             [
              0.5555555555555556,
              "#d8576b"
             ],
             [
              0.6666666666666666,
              "#ed7953"
             ],
             [
              0.7777777777777778,
              "#fb9f3a"
             ],
             [
              0.8888888888888888,
              "#fdca26"
             ],
             [
              1,
              "#f0f921"
             ]
            ],
            "type": "contour"
           }
          ],
          "contourcarpet": [
           {
            "colorbar": {
             "outlinewidth": 0,
             "ticks": ""
            },
            "type": "contourcarpet"
           }
          ],
          "heatmap": [
           {
            "colorbar": {
             "outlinewidth": 0,
             "ticks": ""
            },
            "colorscale": [
             [
              0,
              "#0d0887"
             ],
             [
              0.1111111111111111,
              "#46039f"
             ],
             [
              0.2222222222222222,
              "#7201a8"
             ],
             [
              0.3333333333333333,
              "#9c179e"
             ],
             [
              0.4444444444444444,
              "#bd3786"
             ],
             [
              0.5555555555555556,
              "#d8576b"
             ],
             [
              0.6666666666666666,
              "#ed7953"
             ],
             [
              0.7777777777777778,
              "#fb9f3a"
             ],
             [
              0.8888888888888888,
              "#fdca26"
             ],
             [
              1,
              "#f0f921"
             ]
            ],
            "type": "heatmap"
           }
          ],
          "heatmapgl": [
           {
            "colorbar": {
             "outlinewidth": 0,
             "ticks": ""
            },
            "colorscale": [
             [
              0,
              "#0d0887"
             ],
             [
              0.1111111111111111,
              "#46039f"
             ],
             [
              0.2222222222222222,
              "#7201a8"
             ],
             [
              0.3333333333333333,
              "#9c179e"
             ],
             [
              0.4444444444444444,
              "#bd3786"
             ],
             [
              0.5555555555555556,
              "#d8576b"
             ],
             [
              0.6666666666666666,
              "#ed7953"
             ],
             [
              0.7777777777777778,
              "#fb9f3a"
             ],
             [
              0.8888888888888888,
              "#fdca26"
             ],
             [
              1,
              "#f0f921"
             ]
            ],
            "type": "heatmapgl"
           }
          ],
          "histogram": [
           {
            "marker": {
             "pattern": {
              "fillmode": "overlay",
              "size": 10,
              "solidity": 0.2
             }
            },
            "type": "histogram"
           }
          ],
          "histogram2d": [
           {
            "colorbar": {
             "outlinewidth": 0,
             "ticks": ""
            },
            "colorscale": [
             [
              0,
              "#0d0887"
             ],
             [
              0.1111111111111111,
              "#46039f"
             ],
             [
              0.2222222222222222,
              "#7201a8"
             ],
             [
              0.3333333333333333,
              "#9c179e"
             ],
             [
              0.4444444444444444,
              "#bd3786"
             ],
             [
              0.5555555555555556,
              "#d8576b"
             ],
             [
              0.6666666666666666,
              "#ed7953"
             ],
             [
              0.7777777777777778,
              "#fb9f3a"
             ],
             [
              0.8888888888888888,
              "#fdca26"
             ],
             [
              1,
              "#f0f921"
             ]
            ],
            "type": "histogram2d"
           }
          ],
          "histogram2dcontour": [
           {
            "colorbar": {
             "outlinewidth": 0,
             "ticks": ""
            },
            "colorscale": [
             [
              0,
              "#0d0887"
             ],
             [
              0.1111111111111111,
              "#46039f"
             ],
             [
              0.2222222222222222,
              "#7201a8"
             ],
             [
              0.3333333333333333,
              "#9c179e"
             ],
             [
              0.4444444444444444,
              "#bd3786"
             ],
             [
              0.5555555555555556,
              "#d8576b"
             ],
             [
              0.6666666666666666,
              "#ed7953"
             ],
             [
              0.7777777777777778,
              "#fb9f3a"
             ],
             [
              0.8888888888888888,
              "#fdca26"
             ],
             [
              1,
              "#f0f921"
             ]
            ],
            "type": "histogram2dcontour"
           }
          ],
          "mesh3d": [
           {
            "colorbar": {
             "outlinewidth": 0,
             "ticks": ""
            },
            "type": "mesh3d"
           }
          ],
          "parcoords": [
           {
            "line": {
             "colorbar": {
              "outlinewidth": 0,
              "ticks": ""
             }
            },
            "type": "parcoords"
           }
          ],
          "pie": [
           {
            "automargin": true,
            "type": "pie"
           }
          ],
          "scatter": [
           {
            "fillpattern": {
             "fillmode": "overlay",
             "size": 10,
             "solidity": 0.2
            },
            "type": "scatter"
           }
          ],
          "scatter3d": [
           {
            "line": {
             "colorbar": {
              "outlinewidth": 0,
              "ticks": ""
             }
            },
            "marker": {
             "colorbar": {
              "outlinewidth": 0,
              "ticks": ""
             }
            },
            "type": "scatter3d"
           }
          ],
          "scattercarpet": [
           {
            "marker": {
             "colorbar": {
              "outlinewidth": 0,
              "ticks": ""
             }
            },
            "type": "scattercarpet"
           }
          ],
          "scattergeo": [
           {
            "marker": {
             "colorbar": {
              "outlinewidth": 0,
              "ticks": ""
             }
            },
            "type": "scattergeo"
           }
          ],
          "scattergl": [
           {
            "marker": {
             "colorbar": {
              "outlinewidth": 0,
              "ticks": ""
             }
            },
            "type": "scattergl"
           }
          ],
          "scattermapbox": [
           {
            "marker": {
             "colorbar": {
              "outlinewidth": 0,
              "ticks": ""
             }
            },
            "type": "scattermapbox"
           }
          ],
          "scatterpolar": [
           {
            "marker": {
             "colorbar": {
              "outlinewidth": 0,
              "ticks": ""
             }
            },
            "type": "scatterpolar"
           }
          ],
          "scatterpolargl": [
           {
            "marker": {
             "colorbar": {
              "outlinewidth": 0,
              "ticks": ""
             }
            },
            "type": "scatterpolargl"
           }
          ],
          "scatterternary": [
           {
            "marker": {
             "colorbar": {
              "outlinewidth": 0,
              "ticks": ""
             }
            },
            "type": "scatterternary"
           }
          ],
          "surface": [
           {
            "colorbar": {
             "outlinewidth": 0,
             "ticks": ""
            },
            "colorscale": [
             [
              0,
              "#0d0887"
             ],
             [
              0.1111111111111111,
              "#46039f"
             ],
             [
              0.2222222222222222,
              "#7201a8"
             ],
             [
              0.3333333333333333,
              "#9c179e"
             ],
             [
              0.4444444444444444,
              "#bd3786"
             ],
             [
              0.5555555555555556,
              "#d8576b"
             ],
             [
              0.6666666666666666,
              "#ed7953"
             ],
             [
              0.7777777777777778,
              "#fb9f3a"
             ],
             [
              0.8888888888888888,
              "#fdca26"
             ],
             [
              1,
              "#f0f921"
             ]
            ],
            "type": "surface"
           }
          ],
          "table": [
           {
            "cells": {
             "fill": {
              "color": "#EBF0F8"
             },
             "line": {
              "color": "white"
             }
            },
            "header": {
             "fill": {
              "color": "#C8D4E3"
             },
             "line": {
              "color": "white"
             }
            },
            "type": "table"
           }
          ]
         },
         "layout": {
          "annotationdefaults": {
           "arrowcolor": "#2a3f5f",
           "arrowhead": 0,
           "arrowwidth": 1
          },
          "autotypenumbers": "strict",
          "coloraxis": {
           "colorbar": {
            "outlinewidth": 0,
            "ticks": ""
           }
          },
          "colorscale": {
           "diverging": [
            [
             0,
             "#8e0152"
            ],
            [
             0.1,
             "#c51b7d"
            ],
            [
             0.2,
             "#de77ae"
            ],
            [
             0.3,
             "#f1b6da"
            ],
            [
             0.4,
             "#fde0ef"
            ],
            [
             0.5,
             "#f7f7f7"
            ],
            [
             0.6,
             "#e6f5d0"
            ],
            [
             0.7,
             "#b8e186"
            ],
            [
             0.8,
             "#7fbc41"
            ],
            [
             0.9,
             "#4d9221"
            ],
            [
             1,
             "#276419"
            ]
           ],
           "sequential": [
            [
             0,
             "#0d0887"
            ],
            [
             0.1111111111111111,
             "#46039f"
            ],
            [
             0.2222222222222222,
             "#7201a8"
            ],
            [
             0.3333333333333333,
             "#9c179e"
            ],
            [
             0.4444444444444444,
             "#bd3786"
            ],
            [
             0.5555555555555556,
             "#d8576b"
            ],
            [
             0.6666666666666666,
             "#ed7953"
            ],
            [
             0.7777777777777778,
             "#fb9f3a"
            ],
            [
             0.8888888888888888,
             "#fdca26"
            ],
            [
             1,
             "#f0f921"
            ]
           ],
           "sequentialminus": [
            [
             0,
             "#0d0887"
            ],
            [
             0.1111111111111111,
             "#46039f"
            ],
            [
             0.2222222222222222,
             "#7201a8"
            ],
            [
             0.3333333333333333,
             "#9c179e"
            ],
            [
             0.4444444444444444,
             "#bd3786"
            ],
            [
             0.5555555555555556,
             "#d8576b"
            ],
            [
             0.6666666666666666,
             "#ed7953"
            ],
            [
             0.7777777777777778,
             "#fb9f3a"
            ],
            [
             0.8888888888888888,
             "#fdca26"
            ],
            [
             1,
             "#f0f921"
            ]
           ]
          },
          "colorway": [
           "#636efa",
           "#EF553B",
           "#00cc96",
           "#ab63fa",
           "#FFA15A",
           "#19d3f3",
           "#FF6692",
           "#B6E880",
           "#FF97FF",
           "#FECB52"
          ],
          "font": {
           "color": "#2a3f5f"
          },
          "geo": {
           "bgcolor": "white",
           "lakecolor": "white",
           "landcolor": "#E5ECF6",
           "showlakes": true,
           "showland": true,
           "subunitcolor": "white"
          },
          "hoverlabel": {
           "align": "left"
          },
          "hovermode": "closest",
          "mapbox": {
           "style": "light"
          },
          "paper_bgcolor": "white",
          "plot_bgcolor": "#E5ECF6",
          "polar": {
           "angularaxis": {
            "gridcolor": "white",
            "linecolor": "white",
            "ticks": ""
           },
           "bgcolor": "#E5ECF6",
           "radialaxis": {
            "gridcolor": "white",
            "linecolor": "white",
            "ticks": ""
           }
          },
          "scene": {
           "xaxis": {
            "backgroundcolor": "#E5ECF6",
            "gridcolor": "white",
            "gridwidth": 2,
            "linecolor": "white",
            "showbackground": true,
            "ticks": "",
            "zerolinecolor": "white"
           },
           "yaxis": {
            "backgroundcolor": "#E5ECF6",
            "gridcolor": "white",
            "gridwidth": 2,
            "linecolor": "white",
            "showbackground": true,
            "ticks": "",
            "zerolinecolor": "white"
           },
           "zaxis": {
            "backgroundcolor": "#E5ECF6",
            "gridcolor": "white",
            "gridwidth": 2,
            "linecolor": "white",
            "showbackground": true,
            "ticks": "",
            "zerolinecolor": "white"
           }
          },
          "shapedefaults": {
           "line": {
            "color": "#2a3f5f"
           }
          },
          "ternary": {
           "aaxis": {
            "gridcolor": "white",
            "linecolor": "white",
            "ticks": ""
           },
           "baxis": {
            "gridcolor": "white",
            "linecolor": "white",
            "ticks": ""
           },
           "bgcolor": "#E5ECF6",
           "caxis": {
            "gridcolor": "white",
            "linecolor": "white",
            "ticks": ""
           }
          },
          "title": {
           "x": 0.05
          },
          "xaxis": {
           "automargin": true,
           "gridcolor": "white",
           "linecolor": "white",
           "ticks": "",
           "title": {
            "standoff": 15
           },
           "zerolinecolor": "white",
           "zerolinewidth": 2
          },
          "yaxis": {
           "automargin": true,
           "gridcolor": "white",
           "linecolor": "white",
           "ticks": "",
           "title": {
            "standoff": 15
           },
           "zerolinecolor": "white",
           "zerolinewidth": 2
          }
         }
        },
        "title": {
         "text": "Salary Based on State"
        },
        "xaxis": {
         "title": {
          "text": "Job Title"
         }
        },
        "yaxis": {
         "title": {
          "text": "Salary"
         }
        }
       }
      }
     },
     "metadata": {},
     "output_type": "display_data"
    }
   ],
   "source": [
    "# Analyze the salary of first six job titles in above table\n",
    "title = (job\n",
    " .loc[:,'Job Title']\n",
    " .value_counts()\n",
    " .reset_index()\n",
    " .query(\"`Job Title`>25\")\n",
    " .loc[:,'index']\n",
    " .tolist())\n",
    "df = (job\n",
    " .query(\"`Job Title` in @title and `Company Founded`>=1900\")\n",
    " .groupby('Job Title')\n",
    " .agg({'Estimate Base Salary': 'median', 'Low Estimate': 'mean', 'High Estimate':'mean'})\n",
    " .reset_index()\n",
    " .sort_values(by='Estimate Base Salary'))\n",
    "\n",
    "fig = go.Figure()\n",
    "fig.add_trace(go.Bar(\n",
    "    x=df['Job Title'].tolist(),  \n",
    "    y=df['Low Estimate'].tolist(), \n",
    "    name='Average Low Estimate'\n",
    "))\n",
    "fig.add_trace(go.Bar(\n",
    "    x=df['Job Title'].tolist(),  \n",
    "    y=df['Estimate Base Salary'].tolist(), \n",
    "    name='Average Estimate Base Salary'\n",
    "))\n",
    "fig.add_trace(go.Bar(\n",
    "    x=df['Job Title'].tolist(),  \n",
    "    y=df['High Estimate'].tolist(), \n",
    "    name='Average High Estimate'\n",
    "))\n",
    "\n",
    "# Set the chart title and axis labels\n",
    "fig.update_layout(\n",
    "    title='Salary Based on job title',\n",
    "    xaxis_title='Job Title',\n",
    "    yaxis_title='Salary'\n",
    ")\n",
    "\n",
    "# Display the chart\n",
    "fig.show()"
   ]
  },
  {
   "attachments": {},
   "cell_type": "markdown",
   "metadata": {},
   "source": [
    "Based on the bar chart above, it is evident that software engineers and data scientists are the highest-paying jobs."
   ]
  },
  {
   "cell_type": "code",
   "execution_count": 83,
   "metadata": {},
   "outputs": [
    {
     "data": {
      "text/plain": [
       "['Data Scientist',\n",
       " 'Data Analyst',\n",
       " 'Data Engineer',\n",
       " 'Software Engineer',\n",
       " 'Machine Learning Engineer',\n",
       " 'Data Specialist',\n",
       " 'Clinical Research Associate',\n",
       " 'Research Assistant',\n",
       " 'Clinical Research Assistant',\n",
       " 'Engineer',\n",
       " 'IT Support Analyst',\n",
       " 'Graduate Research Fellow',\n",
       " 'Associate Research Assistant',\n",
       " 'Electronics Engineer',\n",
       " 'Graduate Data Scientist',\n",
       " 'Business Analyst',\n",
       " 'Navy Careers (No Experience Required)',\n",
       " 'Consultant',\n",
       " 'Translator',\n",
       " 'QC Analyst',\n",
       " 'Researcher',\n",
       " 'Business Development Manager']"
      ]
     },
     "execution_count": 83,
     "metadata": {},
     "output_type": "execute_result"
    }
   ],
   "source": [
    "# Analyze the software engineer salary based on state"
   ]
  },
  {
   "cell_type": "code",
   "execution_count": null,
   "metadata": {},
   "outputs": [],
   "source": []
  }
 ],
 "metadata": {
  "kernelspec": {
   "display_name": "Python 3 (ipykernel)",
   "language": "python",
   "name": "python3"
  },
  "language_info": {
   "codemirror_mode": {
    "name": "ipython",
    "version": 3
   },
   "file_extension": ".py",
   "mimetype": "text/x-python",
   "name": "python",
   "nbconvert_exporter": "python",
   "pygments_lexer": "ipython3",
   "version": "3.9.7"
  },
  "orig_nbformat": 4
 },
 "nbformat": 4,
 "nbformat_minor": 2
}
